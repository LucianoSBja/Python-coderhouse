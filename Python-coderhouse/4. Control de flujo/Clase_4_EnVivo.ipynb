{
  "cells": [
    {
      "cell_type": "markdown",
      "metadata": {
        "id": "riLPX68jVF9q"
      },
      "source": [
        "# Repaso de la clase anterior"
      ]
    },
    {
      "cell_type": "code",
      "execution_count": null,
      "metadata": {
        "id": "Mcmn06Ru1Aba"
      },
      "outputs": [],
      "source": [
        "doc = int ( input(\"\\nPor favor, ingresar su documento:\\n\") )\n",
        "\n",
        "altura = float ( input(\"\\nPor favor, ingresar tu altura:\\n\") )\n",
        "\n",
        "peso = float ( input(\"\\nPor favor, ingresar tu peso:\\n\") )"
      ]
    },
    {
      "cell_type": "code",
      "execution_count": null,
      "metadata": {
        "id": "TNnX5jmC3a_O"
      },
      "outputs": [],
      "source": [
        "lista_datos_persona = [doc, altura, peso]"
      ]
    },
    {
      "cell_type": "code",
      "execution_count": null,
      "metadata": {
        "id": "xmS2BfLb3vTt"
      },
      "outputs": [],
      "source": [
        "lista_datos_persona"
      ]
    },
    {
      "cell_type": "code",
      "execution_count": null,
      "metadata": {
        "id": "O8wpfYCS3yKu"
      },
      "outputs": [],
      "source": [
        "lista_datos_persona[1]"
      ]
    },
    {
      "cell_type": "markdown",
      "metadata": {
        "id": "tymbaN7x5B4Y"
      },
      "source": [
        "# Control de flujo de decisión"
      ]
    },
    {
      "cell_type": "markdown",
      "metadata": {
        "id": "3W3PsqtmVOMp"
      },
      "source": [
        "# if"
      ]
    },
    {
      "cell_type": "code",
      "execution_count": null,
      "metadata": {
        "id": "xW4QE9TP5jLB",
        "colab": {
          "base_uri": "https://localhost:8080/"
        },
        "outputId": "a2c9d848-25da-445c-8878-d65b547bae55"
      },
      "outputs": [
        {
          "output_type": "stream",
          "name": "stdout",
          "text": [
            "¡La condición es verdadera!\n"
          ]
        }
      ],
      "source": [
        "#Ejemplo 1\n",
        "x = 20\n",
        "\n",
        "if x > 4:\n",
        "    print(\"¡La condición es verdadera!\")"
      ]
    },
    {
      "cell_type": "code",
      "execution_count": null,
      "metadata": {
        "colab": {
          "base_uri": "https://localhost:8080/"
        },
        "id": "4ctFtqcw-tcV",
        "outputId": "29171536-cc4c-45b3-d2fb-4f3d0dd36f1b"
      },
      "outputs": [
        {
          "output_type": "stream",
          "name": "stdout",
          "text": [
            "Tu numero es divisible por 3 :)\n"
          ]
        }
      ],
      "source": [
        "#Ejemplo 2\n",
        "# Asignar la variable\n",
        "numero = 9\n",
        "\n",
        "# Chequea condicion 1: chequear si el numero es par\n",
        "if numero%2 == 0:\n",
        "    # Solo si es verdadero, imprime...\n",
        "    print(\"Tu numero  es par :)\")\n",
        "\n",
        "# Chequea condicion 2: chequear que el numero es divisible entre 3\n",
        "if numero%3 == 0:\n",
        "    # Solo si es verdadero, imprime...\n",
        "    print(\"Tu numero es divisible por 3 :)\")\n",
        "\n",
        "# Chequea condicion 3\n",
        "if numero > 10:\n",
        "    # Solo si es verdadero, imprime...\n",
        "    print(\"Tu numero es muy grande :( \")"
      ]
    },
    {
      "cell_type": "code",
      "execution_count": null,
      "metadata": {
        "id": "lXOvvHVJ_49s"
      },
      "outputs": [],
      "source": [
        "#Ejemplo 3\n",
        "a = 16\n",
        "\n",
        "if a > 5 and a < 15:\n",
        "    print(\"Mayor que 5 y menos que 15\")"
      ]
    },
    {
      "cell_type": "code",
      "source": [
        "nombre = \"Juana\"\n",
        "# nombre = \"Juana Rosales\"\n",
        "\n",
        "if len(nombre) > 6:\n",
        "    print(\"Esto solo se imprime si if es verdadero\")\n",
        "\n",
        "\n",
        "    print(\"Nombre muy largo\")\n",
        "\n",
        "print(\"Esto siempre se imprime\")"
      ],
      "metadata": {
        "colab": {
          "base_uri": "https://localhost:8080/"
        },
        "id": "KNCFOnb2jhCV",
        "outputId": "1b80fc51-91c5-4738-c483-42c4d5ffd404"
      },
      "execution_count": null,
      "outputs": [
        {
          "output_type": "stream",
          "name": "stdout",
          "text": [
            "Esto siempre se imprime\n"
          ]
        }
      ]
    },
    {
      "cell_type": "markdown",
      "metadata": {
        "id": "fw-spP3qVRo5"
      },
      "source": [
        "# Else"
      ]
    },
    {
      "cell_type": "code",
      "source": [
        "numero =  int(input(\"Numero a evaluar:  \"))\n",
        "\n",
        "if numero > 36:\n",
        "    print(\"El número es grande\")\n",
        "else:\n",
        "    print(\"El número es chico\")"
      ],
      "metadata": {
        "colab": {
          "base_uri": "https://localhost:8080/"
        },
        "id": "-eZBQczXgxqy",
        "outputId": "cc8bfd34-6d0a-491a-f3f5-6fa13c5582e8"
      },
      "execution_count": null,
      "outputs": [
        {
          "output_type": "stream",
          "name": "stdout",
          "text": [
            "Numero a evaluar:  45\n",
            "El número es grande\n"
          ]
        }
      ]
    },
    {
      "cell_type": "code",
      "execution_count": null,
      "metadata": {
        "id": "i2ps53XqBGjt",
        "colab": {
          "base_uri": "https://localhost:8080/"
        },
        "outputId": "81f08ef0-fc02-4cd4-a46e-8946621031b5"
      },
      "outputs": [
        {
          "output_type": "stream",
          "name": "stdout",
          "text": [
            "Numero a evaluar:  10\n",
            "Es 10\n"
          ]
        }
      ],
      "source": [
        "#Ejemplo 1\n",
        "x = int(input(\"Numero a evaluar:  \"))\n",
        "\n",
        "if x == 10:\n",
        "    print(\"Es 10\")\n",
        "else:\n",
        "    print(\"No es 10\")"
      ]
    },
    {
      "cell_type": "code",
      "execution_count": null,
      "metadata": {
        "id": "EWrncheO0YGB",
        "outputId": "81e35c18-2c1e-4bb0-afb7-a7ca2665b0a5",
        "colab": {
          "base_uri": "https://localhost:8080/"
        }
      },
      "outputs": [
        {
          "output_type": "stream",
          "name": "stdout",
          "text": [
            "a es mayor o igual que b\n"
          ]
        }
      ],
      "source": [
        "#Ejemplo 2\n",
        "a = 10\n",
        "b = 10\n",
        "\n",
        "if a < b:\n",
        "    print(\"a es menor que b\")\n",
        "else:\n",
        "    print(\"a es mayor o igual que b\")"
      ]
    },
    {
      "cell_type": "markdown",
      "metadata": {
        "id": "khEnUIELVXTj"
      },
      "source": [
        "# Elif"
      ]
    },
    {
      "cell_type": "code",
      "source": [
        "a = int(input(\"Numero a evaluar:  \"))\n",
        "\n",
        "if a == 4:\n",
        "   print (\"A es igual a cuatro\")\n",
        "elif a == 5:\n",
        "   print (\"A es igual a cinco\")\n",
        "elif a == 6:\n",
        "   print (\"A es igual a seis\")\n",
        "else:\n",
        "   print (\"No se cumple ninguna condición\")\n",
        "\n",
        "print(\"termino sentencia if, elif, else\")"
      ],
      "metadata": {
        "id": "GQCF5KfAiiQe"
      },
      "execution_count": null,
      "outputs": []
    },
    {
      "cell_type": "code",
      "source": [
        "# Ejemplo de un mal codigo\n",
        "a = int(input(\"Numero a evaluar:  \"))\n",
        "\n",
        "if a == 10:\n",
        "    print(\"Excelente\")\n",
        "\n",
        "if a >= 8:\n",
        "    print(\"Sobresaliente\")\n",
        "\n",
        "if a >= 5:\n",
        "    print(\"Aprobado. Debes practicar más\")\n",
        "\n",
        "if a >= 1:\n",
        "    print(\"Reprobrado\")\n",
        "else:\n",
        "    print(\"Contactar a la dirección\")\n",
        "\n",
        "print(\"Fuera del ciclo if else\")"
      ],
      "metadata": {
        "id": "lc1B_h-8jRwC"
      },
      "execution_count": null,
      "outputs": []
    },
    {
      "cell_type": "code",
      "source": [
        "# Ejemplo de un buen codigo\n",
        "a = int(input(\"Numero a evaluar:  \"))\n",
        "\n",
        "if a == 10:\n",
        "    texto_extra = \"Eres el mejor\"\n",
        "    print(f\"Excelente. {texto_extra}\")\n",
        "elif a >= 8:\n",
        "    print(\"Sobresaliente\")\n",
        "elif a >= 5:\n",
        "    print(\"Aprobado. Debes practicar más\")\n",
        "elif a >= 1:\n",
        "    print(\"Reprobrado\")\n",
        "else:\n",
        "    print(\"Contactar a la dirección\")\n",
        "\n",
        "print(\"Fuera del ciclo if elif else\")\n",
        "edad = 10 + 5\n",
        "print(edad)\n"
      ],
      "metadata": {
        "id": "OoW6_LgtlrJZ",
        "colab": {
          "base_uri": "https://localhost:8080/"
        },
        "outputId": "9567f8f9-7de6-4505-ce91-3be27de73f97"
      },
      "execution_count": null,
      "outputs": [
        {
          "output_type": "stream",
          "name": "stdout",
          "text": [
            "Numero a evaluar:  8\n",
            "Sobresaliente\n",
            "Fuera del ciclo if elif else\n",
            "15\n"
          ]
        }
      ]
    },
    {
      "cell_type": "code",
      "execution_count": null,
      "metadata": {
        "id": "petSf7ePEuUr"
      },
      "outputs": [],
      "source": [
        "#Ejemplo 1\n",
        "x = 5\n",
        "if x == 5:\n",
        "    print(\"Es 5\")\n",
        "elif x == 6:\n",
        "    print(\"Es 6\")\n",
        "elif x == 7:\n",
        "    print(\"Es 7\")"
      ]
    },
    {
      "cell_type": "code",
      "execution_count": null,
      "metadata": {
        "id": "HbtCVeQbGn1a"
      },
      "outputs": [],
      "source": [
        "#Ejemplo 2\n",
        "x = 5\n",
        "if x == 5:\n",
        "    print(\"Es 5\")\n",
        "elif x == 6:\n",
        "    print(\"Es 6\")\n",
        "elif x == 7:\n",
        "    print(\"Es 7\")\n",
        "else:\n",
        "    print(\"Es otro\")"
      ]
    },
    {
      "cell_type": "code",
      "execution_count": null,
      "metadata": {
        "id": "TZ28nZJwHG5_",
        "colab": {
          "base_uri": "https://localhost:8080/"
        },
        "outputId": "35a5c522-e00e-48c3-ed1e-7be9b670e48a"
      },
      "outputs": [
        {
          "output_type": "stream",
          "name": "stdout",
          "text": [
            "Ingrese comando deseado: SALIR\n",
            "Saliendo del sistema.\n"
          ]
        }
      ],
      "source": [
        "#Mas ejemplos :)\n",
        "comando =  input(\"Ingrese comando deseado: \")\n",
        "\n",
        "if comando == \"ENTRAR\":\n",
        "    print(\"Bienvenido al sistema.\")\n",
        "elif comando == \"SALUDO\":\n",
        "    print(\"Hola! ¿Cómo estás?\")\n",
        "elif comando == \"SALIR\":\n",
        "    print(\"Saliendo del sistema.\")\n",
        "else:\n",
        "    print(\"No se reconoce el comando.\")"
      ]
    },
    {
      "cell_type": "markdown",
      "source": [
        "#If anidados\n"
      ],
      "metadata": {
        "id": "f6q0P2y-Cde0"
      }
    },
    {
      "cell_type": "code",
      "source": [
        "x = 15\n",
        "\n",
        "if x > 10:\n",
        "    # Solo va a correrse si x > 10\n",
        "    print(\"por encima de diez!\")\n",
        "\n",
        "    # Este es un if anidado\n",
        "    if x > 20:\n",
        "        # Solo va a correrse si x > 20\n",
        "        print(\"y también por encima de 20!\")\n",
        "    else:\n",
        "        print(\"pero no por encima de 20\")\n",
        "else:\n",
        "    # Este else corresponde al primer if\n",
        "    print(\"Es menos que 10 :(\")\n",
        "\n",
        "print(\"Finalizo\")\n"
      ],
      "metadata": {
        "id": "7uHDNtrPCgNZ",
        "colab": {
          "base_uri": "https://localhost:8080/"
        },
        "outputId": "a3e95700-a28f-43fe-974d-de9384f00fea"
      },
      "execution_count": null,
      "outputs": [
        {
          "output_type": "stream",
          "name": "stdout",
          "text": [
            "por encima de diez!\n",
            "pero no por encima de 20\n",
            "Finalizo\n"
          ]
        }
      ]
    },
    {
      "cell_type": "markdown",
      "source": [
        "# Operador ternario\n",
        "\n",
        "Es una forma de escribir un ciclo if else en una sola linea\n",
        "Se usa para casos sencillos"
      ],
      "metadata": {
        "id": "lAh5JKDPl4ik"
      }
    },
    {
      "cell_type": "code",
      "source": [
        "# instruccion 1 if condicional else instruccion2\n",
        "# instruccion 1 se va a ejecutar si if es verdadero\n",
        "# instruccion 2 se va a ejecutar si if es falso\n",
        "\n"
      ],
      "metadata": {
        "id": "eeKb1o95l64a"
      },
      "execution_count": null,
      "outputs": []
    },
    {
      "cell_type": "code",
      "source": [
        "edad = int(input(\"Edad: \"))\n",
        "es_mayor_de_edad = \"mayor\" if edad >= 18 else \"menor\""
      ],
      "metadata": {
        "id": "SO1AIRdUl3k-",
        "colab": {
          "base_uri": "https://localhost:8080/"
        },
        "outputId": "9d551a8a-6c8f-435d-aa58-0f013c1e2a80"
      },
      "execution_count": null,
      "outputs": [
        {
          "name": "stdout",
          "output_type": "stream",
          "text": [
            "Edad: 25\n"
          ]
        }
      ]
    },
    {
      "cell_type": "code",
      "source": [
        "es_mayor_de_edad"
      ],
      "metadata": {
        "colab": {
          "base_uri": "https://localhost:8080/",
          "height": 36
        },
        "id": "1taCLEchmt8M",
        "outputId": "bbbe5ba3-d21e-48d1-e688-347784a98b92"
      },
      "execution_count": null,
      "outputs": [
        {
          "output_type": "execute_result",
          "data": {
            "text/plain": [
              "'mayor'"
            ],
            "application/vnd.google.colaboratory.intrinsic+json": {
              "type": "string"
            }
          },
          "metadata": {},
          "execution_count": 34
        }
      ]
    },
    {
      "cell_type": "code",
      "source": [
        "# Es equivalente a esto:\n",
        "if edad >= 18:\n",
        "    es_mayor_de_edad = \"mayor\"\n",
        "else:\n",
        "    es_mayor_de_edad = \"menor\""
      ],
      "metadata": {
        "id": "3AzWTyWCsCnk"
      },
      "execution_count": null,
      "outputs": []
    },
    {
      "cell_type": "markdown",
      "source": [
        "# if anidados"
      ],
      "metadata": {
        "id": "aB8CoHHTiKDb"
      }
    },
    {
      "cell_type": "code",
      "source": [
        "# Disney\n",
        "# Programa para determinar si una persona se puede subir a una atracción mecánica para adolescentes\n",
        "edad = 10\n",
        "tiene_representante = True\n",
        "\n",
        "if edad >= 12:\n",
        "    if tiene_representante:\n",
        "        print(\"Te puedes subir\")\n",
        "    else:\n",
        "        if edad >= 15:\n",
        "            print(\"Te puedes subir\")\n",
        "        else:\n",
        "            print(\"No te puedes subir\")\n",
        "else:\n",
        "    print(\"No te puedes subir\")\n"
      ],
      "metadata": {
        "id": "WfvFT2UjnOgp"
      },
      "execution_count": null,
      "outputs": []
    },
    {
      "cell_type": "markdown",
      "source": [
        "# Truthy o Falsy"
      ],
      "metadata": {
        "id": "pE9mocB1s58A"
      }
    },
    {
      "cell_type": "code",
      "source": [
        "bool([])"
      ],
      "metadata": {
        "colab": {
          "base_uri": "https://localhost:8080/"
        },
        "id": "mdnwNeaNtG43",
        "outputId": "a0b4bf27-b704-42b6-dc89-0fc0803c9536"
      },
      "execution_count": null,
      "outputs": [
        {
          "output_type": "execute_result",
          "data": {
            "text/plain": [
              "False"
            ]
          },
          "metadata": {},
          "execution_count": 36
        }
      ]
    },
    {
      "cell_type": "code",
      "source": [
        "# lista = []\n",
        "lista = [3, 5]"
      ],
      "metadata": {
        "id": "1RRc4R2lzo6W"
      },
      "execution_count": null,
      "outputs": []
    },
    {
      "cell_type": "code",
      "source": [
        "if len(lista) > 0:\n",
        "    print(\"La lista esta llena\")"
      ],
      "metadata": {
        "colab": {
          "base_uri": "https://localhost:8080/"
        },
        "id": "s0zgCLC8zlld",
        "outputId": "cbd7d7dc-8e72-4312-80d0-f287b37a5f01"
      },
      "execution_count": null,
      "outputs": [
        {
          "output_type": "stream",
          "name": "stdout",
          "text": [
            "La lista esta llena\n"
          ]
        }
      ]
    },
    {
      "cell_type": "code",
      "source": [
        "if lista:\n",
        "    print(\"La lista esta llena\")"
      ],
      "metadata": {
        "colab": {
          "base_uri": "https://localhost:8080/"
        },
        "id": "oHoEHsBCs5Ql",
        "outputId": "747f5547-9af7-4cfd-f920-400cf4bc25ed"
      },
      "execution_count": null,
      "outputs": [
        {
          "output_type": "stream",
          "name": "stdout",
          "text": [
            "La lista esta llena\n"
          ]
        }
      ]
    }
  ],
  "metadata": {
    "colab": {
      "provenance": [],
      "collapsed_sections": [
        "riLPX68jVF9q"
      ]
    },
    "kernelspec": {
      "display_name": "Python 3 (ipykernel)",
      "language": "python",
      "name": "python3"
    },
    "language_info": {
      "codemirror_mode": {
        "name": "ipython",
        "version": 3
      },
      "file_extension": ".py",
      "mimetype": "text/x-python",
      "name": "python",
      "nbconvert_exporter": "python",
      "pygments_lexer": "ipython3",
      "version": "3.8.8"
    },
    "varInspector": {
      "cols": {
        "lenName": 16,
        "lenType": 16,
        "lenVar": 40
      },
      "kernels_config": {
        "python": {
          "delete_cmd_postfix": "",
          "delete_cmd_prefix": "del ",
          "library": "var_list.py",
          "varRefreshCmd": "print(var_dic_list())"
        },
        "r": {
          "delete_cmd_postfix": ") ",
          "delete_cmd_prefix": "rm(",
          "library": "var_list.r",
          "varRefreshCmd": "cat(var_dic_list()) "
        }
      },
      "types_to_exclude": [
        "module",
        "function",
        "builtin_function_or_method",
        "instance",
        "_Feature"
      ],
      "window_display": false
    }
  },
  "nbformat": 4,
  "nbformat_minor": 0
}