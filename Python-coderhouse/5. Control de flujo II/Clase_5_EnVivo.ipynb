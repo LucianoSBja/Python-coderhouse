{
  "cells": [
    {
      "cell_type": "markdown",
      "metadata": {
        "id": "Z0D1aWhDIOll"
      },
      "source": [
        "# Estructuras iterativas\n"
      ]
    },
    {
      "cell_type": "markdown",
      "metadata": {
        "id": "sJv7k_6mtrNL"
      },
      "source": [
        "## while\n",
        "\n",
        "```\n",
        "while condicion:\n",
        "    bloque de codigo a repetir\n",
        "```"
      ]
    },
    {
      "cell_type": "code",
      "source": [
        "num = 5\n",
        "\n",
        "# Chequeas la condicion para ver si entras al bloque while\n",
        "while num > 0:\n",
        "    print(num)\n",
        "    num = num - 1\n",
        "\n",
        "print(\"termino el conteo\")"
      ],
      "metadata": {
        "colab": {
          "base_uri": "https://localhost:8080/"
        },
        "id": "92jBhcHaKKjL",
        "outputId": "06b1d360-b567-4b2c-e212-063373cd87f8"
      },
      "execution_count": null,
      "outputs": [
        {
          "output_type": "stream",
          "name": "stdout",
          "text": [
            "5\n",
            "4\n",
            "3\n",
            "2\n",
            "1\n",
            "termino el conteo\n"
          ]
        }
      ]
    },
    {
      "cell_type": "code",
      "execution_count": null,
      "metadata": {
        "colab": {
          "base_uri": "https://localhost:8080/"
        },
        "id": "GQ5HBLz1A9nh",
        "outputId": "3e9d9b39-52f0-4b26-e0e1-f0ffd106284b"
      },
      "outputs": [
        {
          "output_type": "stream",
          "name": "stdout",
          "text": [
            "1\n",
            "2\n",
            "3\n",
            "4\n",
            "5\n",
            "6\n",
            "7\n",
            "8\n",
            "9\n",
            "10\n"
          ]
        }
      ],
      "source": [
        "numero = 0\n",
        "\n",
        "while numero < 10:\n",
        "    numero = numero + 1\n",
        "    print(numero)"
      ]
    },
    {
      "cell_type": "code",
      "execution_count": null,
      "metadata": {
        "colab": {
          "base_uri": "https://localhost:8080/"
        },
        "id": "DgUnMIsvA9aJ",
        "outputId": "db343e16-94a9-4d83-8302-f4ec1d33ee48"
      },
      "outputs": [
        {
          "output_type": "execute_result",
          "data": {
            "text/plain": [
              "10"
            ]
          },
          "metadata": {},
          "execution_count": 3
        }
      ],
      "source": [
        "numero"
      ]
    },
    {
      "cell_type": "markdown",
      "metadata": {
        "id": "oitAu0YyFmRm"
      },
      "source": [
        "## Bucles infinitos\n",
        "\n"
      ]
    },
    {
      "cell_type": "code",
      "execution_count": null,
      "metadata": {
        "id": "GkWf7gMfFoXS"
      },
      "outputs": [],
      "source": [
        "# cuando la condicion del while siempre es verdadera, será un bucle infinito\n",
        "import time\n",
        "numero = 1\n",
        "\n",
        "while numero < 10:\n",
        "    print(numero)\n",
        "    # time.sleep(0.5)\n"
      ]
    },
    {
      "cell_type": "markdown",
      "metadata": {
        "id": "3DUurxroEwXT"
      },
      "source": [
        "## while else\n",
        "\n"
      ]
    },
    {
      "cell_type": "markdown",
      "metadata": {
        "id": "N6KxVgWJ9LY0"
      },
      "source": [
        "Por ultimo!, veamos otro ejemplo:"
      ]
    },
    {
      "cell_type": "code",
      "execution_count": null,
      "metadata": {
        "id": "4SJkRshB9LY0",
        "outputId": "919f1ba2-82e2-42e3-f5a6-d1f093026bb9",
        "colab": {
          "base_uri": "https://localhost:8080/"
        }
      },
      "outputs": [
        {
          "output_type": "stream",
          "name": "stdout",
          "text": [
            "Ingresar un numero, 0 para salir\n",
            "20\n",
            "Tu numero vale: 20\n",
            "Ingresar un numero, 0 para salir\n",
            "15\n",
            "Tu numero vale: 15\n",
            "Ingresar un numero, 0 para salir\n",
            "0\n",
            "Tu numero vale: 0\n",
            "Has salido con una suma de: 35\n"
          ]
        }
      ],
      "source": [
        "# el else sirve para limpiar variables o imprimir resultados finales\n",
        "numero = -1\n",
        "suma = 0\n",
        "\n",
        "while numero != 0:\n",
        "    numero = int (input(\"Ingresar un numero, 0 para salir\\n\"))\n",
        "    print(\"Tu numero vale: \" + str(numero))\n",
        "\n",
        "    suma = suma + numero\n",
        "else:\n",
        "    print(\"Has salido con una suma de: \" + str(suma))\n"
      ]
    },
    {
      "cell_type": "code",
      "source": [
        "suma"
      ],
      "metadata": {
        "id": "8fj5rngpPrs5"
      },
      "execution_count": null,
      "outputs": []
    },
    {
      "cell_type": "code",
      "source": [
        "\"La suma final es {suma}\""
      ],
      "metadata": {
        "id": "1tpNh_qlPwOl"
      },
      "execution_count": null,
      "outputs": []
    },
    {
      "cell_type": "code",
      "source": [
        "f\"La suma final es {suma}\""
      ],
      "metadata": {
        "id": "YNwNQq1LP0y9"
      },
      "execution_count": null,
      "outputs": []
    },
    {
      "cell_type": "markdown",
      "metadata": {
        "id": "luJasvyArqkv"
      },
      "source": [
        "## Sentencia - Break\n",
        "rompe la corrida del bucle"
      ]
    },
    {
      "cell_type": "code",
      "source": [
        "i = 1\n",
        "\n",
        "while i < 6:\n",
        "    print(i)\n",
        "    if i == 3:\n",
        "        break\n",
        "    i += 1\n",
        "\n",
        "print(\"Termino el ciclo while\")"
      ],
      "metadata": {
        "colab": {
          "base_uri": "https://localhost:8080/"
        },
        "id": "sagRYSu0QZId",
        "outputId": "248f8d47-7212-4044-ee4e-c3a7fef2786c"
      },
      "execution_count": null,
      "outputs": [
        {
          "output_type": "stream",
          "name": "stdout",
          "text": [
            "1\n",
            "2\n",
            "3\n",
            "Termino el ciclo while\n"
          ]
        }
      ]
    },
    {
      "cell_type": "markdown",
      "metadata": {
        "id": "64YYGWRG9LY1"
      },
      "source": [
        "## Sentencia - Continue\n",
        "continua con la siguiente iteracion\n",
        "nos permite saltar la iteración actual"
      ]
    },
    {
      "cell_type": "code",
      "source": [
        "i = 0\n",
        "\n",
        "while i < 6:\n",
        "    i += 1\n",
        "    if i == 3 or i == 5:\n",
        "        continue\n",
        "    print(i)\n",
        "\n",
        "print(\"Termino el ciclo while\")"
      ],
      "metadata": {
        "colab": {
          "base_uri": "https://localhost:8080/"
        },
        "id": "_hhz-TDiQ509",
        "outputId": "3bc623cf-ea54-4cce-f0f7-44f0109b5791"
      },
      "execution_count": null,
      "outputs": [
        {
          "output_type": "stream",
          "name": "stdout",
          "text": [
            "1\n",
            "2\n",
            "4\n",
            "6\n",
            "Termino el ciclo while\n"
          ]
        }
      ]
    },
    {
      "cell_type": "code",
      "execution_count": null,
      "metadata": {
        "id": "P91MZE_t9LY2"
      },
      "outputs": [],
      "source": [
        "number = 0\n",
        "\n",
        "for number in range(10):\n",
        "    if number == 5:\n",
        "        continue    # continue here\n",
        "\n",
        "    print('Numero es ' + str(number))\n",
        "\n",
        "print('Fuera del Loop')"
      ]
    },
    {
      "cell_type": "markdown",
      "metadata": {
        "id": "gL7CZsJQ9LY3"
      },
      "source": [
        "## Sentencia - Pass"
      ]
    },
    {
      "cell_type": "code",
      "source": [
        "i = 0\n",
        "\n",
        "while i < 6:\n",
        "    i += 1\n",
        "    if i == 3 or i == 5:\n",
        "        pass\n",
        "    print(i)"
      ],
      "metadata": {
        "colab": {
          "base_uri": "https://localhost:8080/"
        },
        "id": "Tg-usaq0R3K0",
        "outputId": "7c93fd7b-dabe-4c56-c0eb-05a16ca325ca"
      },
      "execution_count": null,
      "outputs": [
        {
          "output_type": "stream",
          "name": "stdout",
          "text": [
            "1\n",
            "2\n",
            "hey\n",
            "3\n",
            "4\n",
            "hey\n",
            "5\n",
            "6\n"
          ]
        }
      ]
    },
    {
      "cell_type": "code",
      "source": [
        "print(\"hola\")\n",
        "pass\n",
        "print(\"chao\")"
      ],
      "metadata": {
        "colab": {
          "base_uri": "https://localhost:8080/"
        },
        "id": "JnJpnbEA8dUS",
        "outputId": "98280f93-ca02-4c8e-a5a3-397fccfb2d6b"
      },
      "execution_count": null,
      "outputs": [
        {
          "output_type": "stream",
          "name": "stdout",
          "text": [
            "hola\n",
            "chao\n"
          ]
        }
      ]
    },
    {
      "cell_type": "code",
      "execution_count": null,
      "metadata": {
        "id": "7aZwk0Xr9LY3"
      },
      "outputs": [],
      "source": [
        "number = 0\n",
        "\n",
        "for number in range(10):\n",
        "    if number == 5:\n",
        "        pass    # pass here\n",
        "\n",
        "    print('Numero es ' + str(number))\n",
        "\n",
        "print('Fuera del Loop')"
      ]
    },
    {
      "cell_type": "markdown",
      "metadata": {
        "id": "T0_bzmVloK7N"
      },
      "source": [
        "## For\n",
        "\n",
        "Recomendado usar cuando sabemos el numero exacto de iteraciones\n",
        "\n",
        "```\n",
        "for valor in lista_de:valores:\n",
        "    bloque de codigo para cada valor\n",
        "```\n"
      ]
    },
    {
      "cell_type": "code",
      "source": [
        "# estaciones es mi iterables\n",
        "estaciones = (\"invierno\", \"primavera\", \"verano\", \"otoño\")\n",
        "\n",
        "for estacion in estaciones:\n",
        "    # estacion es la variable temporal\n",
        "    print(estacion)"
      ],
      "metadata": {
        "colab": {
          "base_uri": "https://localhost:8080/"
        },
        "id": "_362H3pgVCB9",
        "outputId": "86a7a847-8e65-4b67-ae1f-6f968302ec37"
      },
      "execution_count": null,
      "outputs": [
        {
          "output_type": "stream",
          "name": "stdout",
          "text": [
            "invierno\n",
            "primavera\n",
            "verano\n",
            "otoño\n"
          ]
        }
      ]
    },
    {
      "cell_type": "code",
      "source": [
        "estaciones"
      ],
      "metadata": {
        "colab": {
          "base_uri": "https://localhost:8080/"
        },
        "id": "hPfqkhCNWBUZ",
        "outputId": "e673ad30-694b-43e7-8436-95c837940061"
      },
      "execution_count": null,
      "outputs": [
        {
          "output_type": "execute_result",
          "data": {
            "text/plain": [
              "('invierno', 'primavera', 'verano', 'otoño')"
            ]
          },
          "metadata": {},
          "execution_count": 18
        }
      ]
    },
    {
      "cell_type": "code",
      "source": [
        "estacion"
      ],
      "metadata": {
        "colab": {
          "base_uri": "https://localhost:8080/",
          "height": 35
        },
        "id": "23sgLlaUWDMT",
        "outputId": "41921745-13fc-42c3-e968-693080ce748f"
      },
      "execution_count": null,
      "outputs": [
        {
          "output_type": "execute_result",
          "data": {
            "text/plain": [
              "'otoño'"
            ],
            "application/vnd.google.colaboratory.intrinsic+json": {
              "type": "string"
            }
          },
          "metadata": {},
          "execution_count": 19
        }
      ]
    },
    {
      "cell_type": "code",
      "source": [
        "# la lista paises_habitantes es nuestro iterable\n",
        "paises_habitantes = [\n",
        "    (\"Colombia\", 50000000),\n",
        "    (\"Argentina\", 40000000),\n",
        "    (\"Uruguay\", 3500000),\n",
        "    (\"Holanda\", 9000000),\n",
        "]\n",
        "\n",
        "for tupla in paises_habitantes:\n",
        "    pais = tupla[0]\n",
        "    habitantes = tupla[1]\n",
        "    print(f\"El pais {pais} tiene {habitantes} habitantes\")"
      ],
      "metadata": {
        "colab": {
          "base_uri": "https://localhost:8080/"
        },
        "id": "M4dsrr6OSy7R",
        "outputId": "0f52aac5-30a1-449b-bece-2f14ee77b706"
      },
      "execution_count": null,
      "outputs": [
        {
          "output_type": "stream",
          "name": "stdout",
          "text": [
            "El pais Colombia tiene 50000000 habitantes\n",
            "El pais Argentina tiene 40000000 habitantes\n",
            "El pais Uruguay tiene 3500000 habitantes\n",
            "El pais Holanda tiene 9000000 habitantes\n"
          ]
        }
      ]
    },
    {
      "cell_type": "code",
      "source": [
        "for estacion in estaciones[::-1]:\n",
        "    # estacion es la variable temporal\n",
        "    print(estacion)"
      ],
      "metadata": {
        "id": "AmjoEt1dWOPm",
        "colab": {
          "base_uri": "https://localhost:8080/"
        },
        "outputId": "4ccd22f5-6d2a-4086-c0ff-d0ae5293c7d2"
      },
      "execution_count": null,
      "outputs": [
        {
          "output_type": "stream",
          "name": "stdout",
          "text": [
            "otoño\n",
            "verano\n",
            "primavera\n",
            "invierno\n"
          ]
        }
      ]
    },
    {
      "cell_type": "code",
      "source": [],
      "metadata": {
        "id": "iiE2P_mm_GuS"
      },
      "execution_count": null,
      "outputs": []
    },
    {
      "cell_type": "code",
      "source": [
        "texto = 'Hola Mundo, estoy usando for en Python'\n",
        "\n",
        "for caracter in texto:\n",
        "    print(caracter)"
      ],
      "metadata": {
        "colab": {
          "base_uri": "https://localhost:8080/"
        },
        "id": "7CmvhbzyA45a",
        "outputId": "11ce3d7f-9c80-4ebb-b0f0-479cb7874c7e"
      },
      "execution_count": null,
      "outputs": [
        {
          "output_type": "stream",
          "name": "stdout",
          "text": [
            "H\n",
            "o\n",
            "l\n",
            "a\n",
            " \n",
            "M\n",
            "u\n",
            "n\n",
            "d\n",
            "o\n",
            ",\n",
            " \n",
            "e\n",
            "s\n",
            "t\n",
            "o\n",
            "y\n",
            " \n",
            "u\n",
            "s\n",
            "a\n",
            "n\n",
            "d\n",
            "o\n",
            " \n",
            "f\n",
            "o\n",
            "r\n",
            " \n",
            "e\n",
            "n\n",
            " \n",
            "P\n",
            "y\n",
            "t\n",
            "h\n",
            "o\n",
            "n\n"
          ]
        }
      ]
    },
    {
      "cell_type": "markdown",
      "metadata": {
        "id": "dqIWNSeY9LY6"
      },
      "source": [
        "## Enumerate"
      ]
    },
    {
      "cell_type": "code",
      "execution_count": null,
      "metadata": {
        "id": "kU27FgKZ9LY7"
      },
      "outputs": [],
      "source": [
        "lenguajes = [\"Java\", \"C\", \"C++\", \"Python\", \"R\"]"
      ]
    },
    {
      "cell_type": "code",
      "source": [
        "list(enumerate(lenguajes))"
      ],
      "metadata": {
        "colab": {
          "base_uri": "https://localhost:8080/"
        },
        "id": "adJg62eAdxSB",
        "outputId": "a05b4868-66c3-411b-a42f-0a1732033a2e"
      },
      "execution_count": null,
      "outputs": [
        {
          "output_type": "execute_result",
          "data": {
            "text/plain": [
              "[(0, 'Java'), (1, 'C'), (2, 'C++'), (3, 'Python'), (4, 'R')]"
            ]
          },
          "metadata": {},
          "execution_count": 29
        }
      ]
    },
    {
      "cell_type": "code",
      "source": [
        "for indice, lenguaje in enumerate(lenguajes):\n",
        "    print(f\"{indice} {lenguaje}\")"
      ],
      "metadata": {
        "colab": {
          "base_uri": "https://localhost:8080/"
        },
        "id": "VRgQRD7w_dVF",
        "outputId": "a159578c-86cb-4d4e-8bf4-f89214533876"
      },
      "execution_count": null,
      "outputs": [
        {
          "output_type": "stream",
          "name": "stdout",
          "text": [
            "0 Java\n",
            "1 C\n",
            "2 C++\n",
            "3 Python\n",
            "4 R\n"
          ]
        }
      ]
    },
    {
      "cell_type": "code",
      "execution_count": null,
      "metadata": {
        "id": "H_elZFmD9LY7"
      },
      "outputs": [],
      "source": [
        "for i in range(len(lenguajes)):\n",
        "    print(i, lenguajes[i])"
      ]
    },
    {
      "cell_type": "markdown",
      "metadata": {
        "id": "krnZUFJ-zL5i"
      },
      "source": [
        "## Range"
      ]
    },
    {
      "cell_type": "code",
      "source": [
        "range(20)"
      ],
      "metadata": {
        "colab": {
          "base_uri": "https://localhost:8080/"
        },
        "id": "0Nq1H1V_Bswc",
        "outputId": "3d87c01a-b511-45b7-f4e2-a57b0b87d8f8"
      },
      "execution_count": null,
      "outputs": [
        {
          "output_type": "execute_result",
          "data": {
            "text/plain": [
              "range(0, 20)"
            ]
          },
          "metadata": {},
          "execution_count": 31
        }
      ]
    },
    {
      "cell_type": "code",
      "source": [
        "lista_1 = list(range(20))"
      ],
      "metadata": {
        "id": "N95-GMEOW2X7"
      },
      "execution_count": null,
      "outputs": []
    },
    {
      "cell_type": "code",
      "source": [
        "lista_1"
      ],
      "metadata": {
        "colab": {
          "base_uri": "https://localhost:8080/"
        },
        "id": "qY0yJKN7XD-4",
        "outputId": "0de78025-cd7b-459a-8ce0-51bb0cdaaebc"
      },
      "execution_count": null,
      "outputs": [
        {
          "output_type": "execute_result",
          "data": {
            "text/plain": [
              "[0, 1, 2, 3, 4, 5, 6, 7, 8, 9, 10, 11, 12, 13, 14, 15, 16, 17, 18, 19]"
            ]
          },
          "metadata": {},
          "execution_count": 33
        }
      ]
    },
    {
      "cell_type": "code",
      "source": [
        "list(range(-10, 11))  # por defecto el paso es 1"
      ],
      "metadata": {
        "id": "sylw3QuZXOBH",
        "colab": {
          "base_uri": "https://localhost:8080/"
        },
        "outputId": "cf773882-59e3-4f4d-a656-c9a4e397de82"
      },
      "execution_count": null,
      "outputs": [
        {
          "output_type": "execute_result",
          "data": {
            "text/plain": [
              "[-10, -9, -8, -7, -6, -5, -4, -3, -2, -1, 0, 1, 2, 3, 4, 5, 6, 7, 8, 9, 10]"
            ]
          },
          "metadata": {},
          "execution_count": 34
        }
      ]
    },
    {
      "cell_type": "code",
      "source": [
        "list(range(-10, 11, 2))"
      ],
      "metadata": {
        "colab": {
          "base_uri": "https://localhost:8080/"
        },
        "id": "IjSSaS2peyEX",
        "outputId": "a1e81b9c-97be-4f59-e909-eb8733d96ded"
      },
      "execution_count": null,
      "outputs": [
        {
          "output_type": "execute_result",
          "data": {
            "text/plain": [
              "[-10, -8, -6, -4, -2, 0, 2, 4, 6, 8, 10]"
            ]
          },
          "metadata": {},
          "execution_count": 35
        }
      ]
    },
    {
      "cell_type": "code",
      "execution_count": null,
      "metadata": {
        "id": "quYdxn-7obm-",
        "colab": {
          "base_uri": "https://localhost:8080/"
        },
        "outputId": "dcaed380-90e6-4907-e0e8-6627c68a1e68"
      },
      "outputs": [
        {
          "output_type": "stream",
          "name": "stdout",
          "text": [
            "1\n",
            "4\n",
            "7\n",
            "10\n",
            "13\n",
            "16\n",
            "19\n"
          ]
        }
      ],
      "source": [
        "for numero in range(1, 20, 3):\n",
        "    print(numero)"
      ]
    },
    {
      "cell_type": "code",
      "execution_count": null,
      "metadata": {
        "id": "0DVbV9v09LY8",
        "colab": {
          "base_uri": "https://localhost:8080/"
        },
        "outputId": "be888cf4-a955-470e-c248-9d0d245a7eea"
      },
      "outputs": [
        {
          "output_type": "stream",
          "name": "stdout",
          "text": [
            "20\n",
            "17\n",
            "14\n",
            "11\n",
            "8\n",
            "5\n",
            "2\n"
          ]
        }
      ],
      "source": [
        "for numero in range(20, 1, -3):\n",
        "    print(numero)"
      ]
    },
    {
      "cell_type": "markdown",
      "source": [
        "# For else"
      ],
      "metadata": {
        "id": "ptLclTl4C4He"
      }
    },
    {
      "cell_type": "code",
      "source": [
        "#Otro ejemplo\n",
        "for numero in range(10):\n",
        "    if numero == 2:\n",
        "        continue\n",
        "    print(\"Numero vale\",numero)\n",
        "else:\n",
        "    print(\"Se terminó de iterar y numero vale: \", numero)"
      ],
      "metadata": {
        "colab": {
          "base_uri": "https://localhost:8080/"
        },
        "id": "uOQdPJGLDOdI",
        "outputId": "f104d954-912e-420e-d87e-9815a522a06a"
      },
      "execution_count": null,
      "outputs": [
        {
          "output_type": "stream",
          "name": "stdout",
          "text": [
            "Numero vale 0\n",
            "Numero vale 1\n",
            "Numero vale 3\n",
            "Numero vale 4\n",
            "Numero vale 5\n",
            "Numero vale 6\n",
            "Numero vale 7\n",
            "Numero vale 8\n",
            "Numero vale 9\n",
            "Se terminó de iterar y numero vale:  9\n"
          ]
        }
      ]
    },
    {
      "cell_type": "code",
      "execution_count": null,
      "metadata": {
        "id": "GiEaIW1z9LY5",
        "colab": {
          "base_uri": "https://localhost:8080/"
        },
        "outputId": "600de6de-e5fc-4cd0-9cfd-222e2bee8323"
      },
      "outputs": [
        {
          "output_type": "stream",
          "name": "stdout",
          "text": [
            "Numero vale 0\n",
            "Numero vale 1\n",
            "Numero vale 3\n",
            "Numero vale 4\n",
            "Numero vale 5\n",
            "Numero vale 6\n",
            "Numero vale 7\n"
          ]
        }
      ],
      "source": [
        "#Otro ejemplo\n",
        "for numero in range(10):\n",
        "    if numero == 2:\n",
        "        continue\n",
        "    elif numero == 8:\n",
        "        # el break va a hacer que no se ejecute el else\n",
        "        break\n",
        "    print(\"Numero vale\",numero)\n",
        "else:\n",
        "    print(\"Se terminó de iterar y numero vale: \", numero)"
      ]
    },
    {
      "cell_type": "markdown",
      "source": [
        "# Resolución Practicas complementarias"
      ],
      "metadata": {
        "id": "DWoP6W6oBANf"
      }
    },
    {
      "cell_type": "code",
      "source": [
        "\n",
        "\n",
        "#Ejercicio 1\n",
        "paises = ['Chile', 'USA', 'Canada', 'Australia','Colombia','Uruguay']\n",
        "for i in paises:\n",
        "    print(i)\n",
        "\n",
        "#Ejercicio 2\n",
        "suma = 0\n",
        "for i in range(51):\n",
        "    if i % 2 != 0:\n",
        "        suma = suma + i\n",
        "print(suma)\n",
        "\n",
        "#Ejercicio 3\n",
        "for i in range(20,0,-1):\n",
        "    print(i)\n"
      ],
      "metadata": {
        "id": "WBGXR9WpJliP"
      },
      "execution_count": null,
      "outputs": []
    },
    {
      "cell_type": "code",
      "source": [
        "\"\"\"\n",
        "2)  Escribe un programa que lea un número impar por teclado. Si el usuario no introduce un número impar,\n",
        "debe repetirse el proceso hasta que lo introduzca correctamente.\n",
        "\"\"\"\n",
        "\n",
        "continuar = True\n",
        "\n",
        "while continuar == True:\n",
        "    numero = int(input(\"Ingresa un numero impar:  \"))\n",
        "\n",
        "    if numero % 2 != 0:\n",
        "        # entonces es impar\n",
        "        print(f\"Has ingresado un numero impar {numero}\")\n",
        "        print(\"Saliendo\")\n",
        "        continuar = False\n",
        "    else:\n",
        "        # entonces es par\n",
        "        pass\n"
      ],
      "metadata": {
        "id": "Gvzm3djTdQUt"
      },
      "execution_count": null,
      "outputs": []
    }
  ],
  "metadata": {
    "colab": {
      "provenance": [],
      "collapsed_sections": [
        "T0_bzmVloK7N",
        "dqIWNSeY9LY6"
      ]
    },
    "kernelspec": {
      "display_name": "Python 3 (ipykernel)",
      "language": "python",
      "name": "python3"
    },
    "language_info": {
      "codemirror_mode": {
        "name": "ipython",
        "version": 3
      },
      "file_extension": ".py",
      "mimetype": "text/x-python",
      "name": "python",
      "nbconvert_exporter": "python",
      "pygments_lexer": "ipython3",
      "version": "3.8.8"
    },
    "varInspector": {
      "cols": {
        "lenName": 16,
        "lenType": 16,
        "lenVar": 40
      },
      "kernels_config": {
        "python": {
          "delete_cmd_postfix": "",
          "delete_cmd_prefix": "del ",
          "library": "var_list.py",
          "varRefreshCmd": "print(var_dic_list())"
        },
        "r": {
          "delete_cmd_postfix": ") ",
          "delete_cmd_prefix": "rm(",
          "library": "var_list.r",
          "varRefreshCmd": "cat(var_dic_list()) "
        }
      },
      "types_to_exclude": [
        "module",
        "function",
        "builtin_function_or_method",
        "instance",
        "_Feature"
      ],
      "window_display": false
    }
  },
  "nbformat": 4,
  "nbformat_minor": 0
}