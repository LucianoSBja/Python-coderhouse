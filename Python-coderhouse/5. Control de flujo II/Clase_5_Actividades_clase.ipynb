{
  "nbformat": 4,
  "nbformat_minor": 0,
  "metadata": {
    "colab": {
      "provenance": [],
      "collapsed_sections": [
        "GHcoq_Z7ARaA",
        "4oqOoFD_A4Gv"
      ]
    },
    "kernelspec": {
      "name": "python3",
      "display_name": "Python 3"
    },
    "language_info": {
      "name": "python"
    }
  },
  "cells": [
    {
      "cell_type": "markdown",
      "metadata": {
        "id": "GVr8TBcdnmoj"
      },
      "source": [
        "# Actividad 1: ¡Solicitud de nros al usuario!"
      ]
    },
    {
      "cell_type": "markdown",
      "metadata": {
        "id": "Nfoofmd4npQJ"
      },
      "source": [
        "Calcular la suma de una cantidad de números enteros ingresados por el usuario directamente utilizando la función input ().\n",
        "\n",
        "Para finalizar la ejecución del programa el usuario debe escribir la palabra exit(). El programa debe validar dicha acción.\n",
        "\n",
        "Finalmente el algoritmo debe mostrar la suma parcial y total obtenida."
      ]
    },
    {
      "cell_type": "code",
      "source": [],
      "metadata": {
        "id": "TRbD5cZLAQ18"
      },
      "execution_count": null,
      "outputs": []
    },
    {
      "cell_type": "markdown",
      "source": [
        "### Solución profesor"
      ],
      "metadata": {
        "id": "GHcoq_Z7ARaA"
      }
    },
    {
      "cell_type": "code",
      "source": [
        "\"33\".isnumeric()"
      ],
      "metadata": {
        "colab": {
          "base_uri": "https://localhost:8080/"
        },
        "id": "cOhJpWpD2qVt",
        "outputId": "8e4abe36-5b92-469e-998d-3afbbf51b21f"
      },
      "execution_count": null,
      "outputs": [
        {
          "output_type": "execute_result",
          "data": {
            "text/plain": [
              "True"
            ]
          },
          "metadata": {},
          "execution_count": 2
        }
      ]
    },
    {
      "cell_type": "code",
      "source": [
        "\"33.5\".isnumeric()"
      ],
      "metadata": {
        "colab": {
          "base_uri": "https://localhost:8080/"
        },
        "id": "Sc6xaXO42xX9",
        "outputId": "bded6b34-3951-44b5-ca62-c8b5308e1d7b"
      },
      "execution_count": null,
      "outputs": [
        {
          "output_type": "execute_result",
          "data": {
            "text/plain": [
              "False"
            ]
          },
          "metadata": {},
          "execution_count": 4
        }
      ]
    },
    {
      "cell_type": "code",
      "source": [
        "\"holaaa\".isnumeric()"
      ],
      "metadata": {
        "colab": {
          "base_uri": "https://localhost:8080/"
        },
        "id": "Cd4c9z8C2yyS",
        "outputId": "1de06159-323d-4294-f5f6-f70ddcc0027d"
      },
      "execution_count": null,
      "outputs": [
        {
          "output_type": "execute_result",
          "data": {
            "text/plain": [
              "False"
            ]
          },
          "metadata": {},
          "execution_count": 5
        }
      ]
    },
    {
      "cell_type": "code",
      "execution_count": null,
      "metadata": {
        "id": "PmgII_A8Hz6D",
        "colab": {
          "base_uri": "https://localhost:8080/"
        },
        "outputId": "b25ba608-fbd4-4714-e9ee-ea4912dcf6f7"
      },
      "outputs": [
        {
          "output_type": "stream",
          "name": "stdout",
          "text": [
            "Ingrese un numero o exit para salir: holaaa\n",
            "Ingrese un numero o exit para salir: chao\n",
            "Ingrese un numero o exit para salir: hh\n",
            "Ingrese un numero o exit para salir: 40\n",
            "Suma parcial: 40\n",
            "Ingrese un numero o exit para salir: 20\n",
            "Suma parcial: 60\n",
            "Ingrese un numero o exit para salir: exit\n",
            "Saliendo...\n",
            "Suma final: 60\n"
          ]
        }
      ],
      "source": [
        "# Opcion 1\n",
        "input_usuario = \"\"\n",
        "suma = 0\n",
        "\n",
        "while input_usuario != \"exit\":\n",
        "    input_usuario = input(\"Ingrese un numero o exit para salir: \")\n",
        "\n",
        "    if input_usuario.isnumeric():\n",
        "        numero = int(input_usuario)\n",
        "        suma = suma + numero\n",
        "        print(f\"Suma parcial: {suma}\")\n",
        "    elif input_usuario == \"exit\":\n",
        "        print(\"Saliendo...\")\n",
        "\n",
        "print(\"Suma final: \" + str(suma))"
      ]
    },
    {
      "cell_type": "code",
      "source": [
        "# Opcion 2\n",
        "suma = 0\n",
        "continuar = True  # bandera\n",
        "\n",
        "while continuar == True:\n",
        "    input_usuario = input(\"Ingrese un número ('exit' para terminar): \")\n",
        "\n",
        "    if input_usuario == 'exit':\n",
        "        continuar = False\n",
        "    else:\n",
        "        numero = int(input_usuario)\n",
        "        suma = suma + numero\n",
        "        print(f\"Suma parcial: {suma}\")\n",
        "\n",
        "print(f\"La suma final es {suma}\")"
      ],
      "metadata": {
        "id": "1LAKZi4bVKSk"
      },
      "execution_count": null,
      "outputs": []
    },
    {
      "cell_type": "code",
      "source": [
        "int(\"hola\")"
      ],
      "metadata": {
        "colab": {
          "base_uri": "https://localhost:8080/",
          "height": 176
        },
        "id": "CDKr3azV3Sxf",
        "outputId": "47dc5dcb-36d2-4828-fcd0-cd48b9651413"
      },
      "execution_count": null,
      "outputs": [
        {
          "output_type": "error",
          "ename": "ValueError",
          "evalue": "ignored",
          "traceback": [
            "\u001b[0;31m---------------------------------------------------------------------------\u001b[0m",
            "\u001b[0;31mValueError\u001b[0m                                Traceback (most recent call last)",
            "\u001b[0;32m<ipython-input-8-62025142aa33>\u001b[0m in \u001b[0;36m<cell line: 1>\u001b[0;34m()\u001b[0m\n\u001b[0;32m----> 1\u001b[0;31m \u001b[0mint\u001b[0m\u001b[0;34m(\u001b[0m\u001b[0;34m\"hola\"\u001b[0m\u001b[0;34m)\u001b[0m\u001b[0;34m\u001b[0m\u001b[0;34m\u001b[0m\u001b[0m\n\u001b[0m",
            "\u001b[0;31mValueError\u001b[0m: invalid literal for int() with base 10: 'hola'"
          ]
        }
      ]
    },
    {
      "cell_type": "code",
      "source": [
        "f\"La suma final es {suma}\""
      ],
      "metadata": {
        "colab": {
          "base_uri": "https://localhost:8080/",
          "height": 35
        },
        "id": "yX6GdBaM3ubK",
        "outputId": "0fcc7c0c-b3fc-41e6-d384-1940e8922707"
      },
      "execution_count": null,
      "outputs": [
        {
          "output_type": "execute_result",
          "data": {
            "text/plain": [
              "'La suma final es 0'"
            ],
            "application/vnd.google.colaboratory.intrinsic+json": {
              "type": "string"
            }
          },
          "metadata": {},
          "execution_count": 9
        }
      ]
    },
    {
      "cell_type": "code",
      "source": [
        "\"La suma final es \" + str(suma)"
      ],
      "metadata": {
        "colab": {
          "base_uri": "https://localhost:8080/",
          "height": 35
        },
        "id": "z0m2zke73x5G",
        "outputId": "0fb96cb2-4dca-4d6c-fd58-ce9b571cb0c6"
      },
      "execution_count": null,
      "outputs": [
        {
          "output_type": "execute_result",
          "data": {
            "text/plain": [
              "'La suma final es 0'"
            ],
            "application/vnd.google.colaboratory.intrinsic+json": {
              "type": "string"
            }
          },
          "metadata": {},
          "execution_count": 11
        }
      ]
    },
    {
      "cell_type": "markdown",
      "source": [
        "# Actividad 2"
      ],
      "metadata": {
        "id": "mOP6a3ZlAOMA"
      }
    },
    {
      "cell_type": "code",
      "source": [
        "\"\"\"\n",
        "Observa el código y busca comprender qué sucedió en este caso:\n",
        "\"\"\"\n",
        "\n",
        "x = 5\n",
        "\n",
        "while True:\n",
        "    x -= 1\n",
        "    print(x)\n",
        "    if x == 0:\n",
        "        print(\"Fin del bucle\")\n",
        "        break\n"
      ],
      "metadata": {
        "id": "sHmsrWiCaY9e"
      },
      "execution_count": null,
      "outputs": []
    },
    {
      "cell_type": "markdown",
      "source": [
        "# Actividad 3"
      ],
      "metadata": {
        "id": "gC4Kh0P5As1P"
      }
    },
    {
      "cell_type": "code",
      "source": [
        "\"\"\"\n",
        "Descripción de la actividad.\n",
        "\n",
        "Escribir la letra de la canción Me gusta de Manu Chao, utilizando la sentencia de iteración for:\n",
        " https://www.letras.com/manu-chao/7352/\n",
        "\n",
        "Importante: Deberán crear también una lista con los párrafos de la canción para poder imprimirlos correctamente por pantalla.\n",
        "\"\"\""
      ],
      "metadata": {
        "id": "g3SJFBzpblHJ"
      },
      "execution_count": null,
      "outputs": []
    },
    {
      "cell_type": "code",
      "source": [],
      "metadata": {
        "id": "VgObEINTBBHM"
      },
      "execution_count": null,
      "outputs": []
    },
    {
      "cell_type": "markdown",
      "source": [
        "### Solución profesor"
      ],
      "metadata": {
        "id": "4oqOoFD_A4Gv"
      }
    },
    {
      "cell_type": "code",
      "source": [
        "# nuestro iteable es cosas_que_me_gustan_ademas_de_ti\n",
        "cosas_que_me_gustan_ademas_de_ti = [\n",
        "    'n los aviones',\n",
        "    ' viajar',\n",
        "    ' la mañana',\n",
        "    ' el viento',\n",
        "    ' soñar',\n",
        "    ' la mar',\n",
        "    ' la moto',\n",
        "    ' correr',\n",
        "    ' la lluvia',\n",
        "    ' volver',\n",
        "    ' marihuana',\n",
        "    ' colombiana',\n",
        "    ' la montaña',\n",
        "    ' la noche',\n",
        "    ' la cena',\n",
        "    ' la vecina',\n",
        "    ' su cocina',\n",
        "    ' camelar',\n",
        "    ' la guitarra',\n",
        "    ' el reggae',\n",
        "    ' la canela',\n",
        "    ' el fuego',\n",
        "    ' menear',\n",
        "    ' la Coruña',\n",
        "    ' Malasaña',\n",
        "    ' la castaña',\n",
        "    ' Guatemala',\n",
        "]\n",
        "\n",
        "# Conocemos el numero de repeticiones?\n",
        "# como el numero de repeticiones es conocido, usamos un for\n",
        "\n",
        "for cosa in cosas_que_me_gustan_ademas_de_ti:\n",
        "    # la variable temporal la llamamos cosa\n",
        "    # usando f-string print imprimimos cada una de las frases\n",
        "    print(f\"Me gusta{cosa}, me gustas tú\")"
      ],
      "metadata": {
        "id": "rIFR2CYJA19n",
        "colab": {
          "base_uri": "https://localhost:8080/"
        },
        "outputId": "01ff0c2b-ade3-4fac-aade-099cf68de5ac"
      },
      "execution_count": null,
      "outputs": [
        {
          "output_type": "stream",
          "name": "stdout",
          "text": [
            "Me gustan los aviones, me gustas tú\n",
            "Me gusta viajar, me gustas tú\n",
            "Me gusta la mañana, me gustas tú\n",
            "Me gusta el viento, me gustas tú\n",
            "Me gusta soñar, me gustas tú\n",
            "Me gusta la mar, me gustas tú\n",
            "Me gusta la moto, me gustas tú\n",
            "Me gusta correr, me gustas tú\n",
            "Me gusta la lluvia, me gustas tú\n",
            "Me gusta volver, me gustas tú\n",
            "Me gusta marihuana, me gustas tú\n",
            "Me gusta colombiana, me gustas tú\n",
            "Me gusta la montaña, me gustas tú\n",
            "Me gusta la noche, me gustas tú\n",
            "Me gusta la cena, me gustas tú\n",
            "Me gusta la vecina, me gustas tú\n",
            "Me gusta su cocina, me gustas tú\n",
            "Me gusta camelar, me gustas tú\n",
            "Me gusta la guitarra, me gustas tú\n",
            "Me gusta el reggae, me gustas tú\n",
            "Me gusta la canela, me gustas tú\n",
            "Me gusta el fuego, me gustas tú\n",
            "Me gusta menear, me gustas tú\n",
            "Me gusta la Coruña, me gustas tú\n",
            "Me gusta Malasaña, me gustas tú\n",
            "Me gusta la castaña, me gustas tú\n",
            "Me gusta Guatemala, me gustas tú\n"
          ]
        }
      ]
    },
    {
      "cell_type": "markdown",
      "source": [
        "# Actividades extra"
      ],
      "metadata": {
        "id": "S_NSM2IEA77z"
      }
    },
    {
      "cell_type": "code",
      "source": [
        "#Ejercicio Extra\n",
        "\"\"\"\n",
        "By Gonzalo\n",
        "\n",
        "Escriba un programa y solicite al usuario edad y si tiene un carnet de conducir.\n",
        "Si la edad del usuario es mayor o igual a 18 y tiene un carnet de conducir, el programa debe imprimir \"Puede Conducir\".\n",
        "De lo contrario, debe imprimir \"No Puede Conducir\".\n",
        "\"\"\"\n",
        "\n",
        "edad = int(input(\"Edad: \"))\n",
        "tiene_carnet = input(\"¿Tienes carnet de conducir? (SI / NO)\")\n",
        "\n",
        "if edad >= 18 and tiene_carnet == \"SI\":\n",
        "    print(\"Puede conducir\")\n",
        "else:\n",
        "    print(\"No Puede Conducir\")\n"
      ],
      "metadata": {
        "id": "jBF8gfJeivo3"
      },
      "execution_count": null,
      "outputs": []
    },
    {
      "cell_type": "code",
      "source": [
        "while True:\n",
        "    edad = int(input(\"Edad: \"))\n",
        "    tiene_carnet = input(\"¿Tienes carnet de conducir? (SI / NO)\")\n",
        "\n",
        "    if tiene_carnet not in [\"SI\", \"NO\"]:\n",
        "        continue\n",
        "\n",
        "    if edad >= 18 and tiene_carnet == \"SI\":\n",
        "        print(\"Puede conducir\")\n",
        "    else:\n",
        "        print(\"No Puede Conducir\")\n",
        "    break"
      ],
      "metadata": {
        "id": "M5Z6og10jsqa"
      },
      "execution_count": null,
      "outputs": []
    }
  ]
}