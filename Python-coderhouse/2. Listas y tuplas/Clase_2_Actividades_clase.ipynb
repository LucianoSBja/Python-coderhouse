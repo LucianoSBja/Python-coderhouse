{
  "nbformat": 4,
  "nbformat_minor": 0,
  "metadata": {
    "colab": {
      "provenance": []
    },
    "kernelspec": {
      "name": "python3",
      "display_name": "Python 3"
    },
    "language_info": {
      "name": "python"
    }
  },
  "cells": [
    {
      "cell_type": "code",
      "execution_count": null,
      "metadata": {
        "id": "RCouvKzhgzNN"
      },
      "outputs": [],
      "source": [
        "\"\"\"\n",
        "Descripción de la actividad.\n",
        "\n",
        "Dadas dos listas iniciales LISTA1 y LISTA2 debes realizar las siguientes tareas:\n",
        "\n",
        "a. Añade a la LISTA1 el int 100 y luego el string “Hola Mundo”\n",
        "b. Luego añade a la LISTA2 el string “Hola y Adios” y luego el int 300\n",
        "c. Genera una LISTA3 con todos los elementos de la LISTA1 sin considerar el último elemento\n",
        "d. Genera una LISTA4 con todos los elementos de la LISTA2 menos el primero y el último elemento\n",
        "e. Finalmente, genera una LISTA5 con los elementos de la LISTA4 y de la LISTA3\n",
        "\n",
        "Listas iniciales:\n",
        "lista_1 = [1, 2, 3]\n",
        "lista_2 = [\"Juan\", \"Ana\", \"Pepe\"]\n",
        "\"\"\""
      ]
    },
    {
      "cell_type": "code",
      "source": [
        "lista_1 = [1, 2, 3]\n",
        "lista_2 = [\"Juan\", \"Ana\", \"Pepe\"]"
      ],
      "metadata": {
        "id": "tN6xJ0O4mkkr"
      },
      "execution_count": null,
      "outputs": []
    },
    {
      "cell_type": "code",
      "source": [
        "# a. Añade a la LISTA1 el int 100 y luego el string “Hola Mundo”\n",
        "lista_1.append(100)\n",
        "lista_1.append(\"Hola Mundo\")"
      ],
      "metadata": {
        "id": "vh01vkPkmkq6"
      },
      "execution_count": null,
      "outputs": []
    },
    {
      "cell_type": "code",
      "source": [
        "lista_1"
      ],
      "metadata": {
        "colab": {
          "base_uri": "https://localhost:8080/"
        },
        "id": "T5IhErwrmlDI",
        "outputId": "466e8ab3-7593-4b1f-c7a9-77c5a3486de9"
      },
      "execution_count": null,
      "outputs": [
        {
          "output_type": "execute_result",
          "data": {
            "text/plain": [
              "[1, 2, 3, 100, 'Hola Mundo']"
            ]
          },
          "metadata": {},
          "execution_count": 4
        }
      ]
    },
    {
      "cell_type": "code",
      "source": [
        "# b. Luego añade a la LISTA2 el string “Hola y Adios” y luego el int 300\n",
        "lista_2.append(\"Hola y Adios\")\n",
        "lista_2.append(300)"
      ],
      "metadata": {
        "id": "nitA8v2mmlJc"
      },
      "execution_count": null,
      "outputs": []
    },
    {
      "cell_type": "code",
      "source": [
        "lista_2"
      ],
      "metadata": {
        "colab": {
          "base_uri": "https://localhost:8080/"
        },
        "id": "JlC3UfiYmlQE",
        "outputId": "1cf47c43-c70c-450f-9936-e06cb2ad878c"
      },
      "execution_count": null,
      "outputs": [
        {
          "output_type": "execute_result",
          "data": {
            "text/plain": [
              "['Juan', 'Ana', 'Pepe', 'Hola y Adios', 300]"
            ]
          },
          "metadata": {},
          "execution_count": 6
        }
      ]
    },
    {
      "cell_type": "code",
      "source": [
        "# c. Genera una LISTA3 con todos los elementos de la LISTA1 sin considerar el último elemento\n",
        "lista_3 = lista_1[0:-1]\n",
        "print(lista_3)"
      ],
      "metadata": {
        "colab": {
          "base_uri": "https://localhost:8080/"
        },
        "id": "MCCyy1vLnJyO",
        "outputId": "98cf964d-7732-4709-a005-4874435c7e2d"
      },
      "execution_count": null,
      "outputs": [
        {
          "output_type": "stream",
          "name": "stdout",
          "text": [
            "[1, 2, 3, 100]\n"
          ]
        }
      ]
    },
    {
      "cell_type": "code",
      "source": [
        "# d. Genera una LISTA4 con todos los elementos de la LISTA2 menos el primero y el último elemento\n",
        "lista_4 = lista_2[1:-1]\n",
        "print(lista_4)"
      ],
      "metadata": {
        "colab": {
          "base_uri": "https://localhost:8080/"
        },
        "id": "eflLrfRFnJ4d",
        "outputId": "eae59602-e0cf-4dd4-cf3b-c9f4c5f04f96"
      },
      "execution_count": null,
      "outputs": [
        {
          "output_type": "stream",
          "name": "stdout",
          "text": [
            "['Ana', 'Pepe', 'Hola y Adios']\n"
          ]
        }
      ]
    },
    {
      "cell_type": "code",
      "source": [
        "# e. Finalmente, genera una LISTA5 con los elementos de la LISTA4 y de la LISTA3\n",
        "lista_5 = lista_4 + lista_3\n",
        "print(lista_5)"
      ],
      "metadata": {
        "colab": {
          "base_uri": "https://localhost:8080/"
        },
        "id": "84TLX4YgnKI8",
        "outputId": "9639bf4d-9368-48de-8c9a-fd927e419381"
      },
      "execution_count": null,
      "outputs": [
        {
          "output_type": "stream",
          "name": "stdout",
          "text": [
            "['Ana', 'Pepe', 'Hola y Adios', 1, 2, 3, 100]\n"
          ]
        }
      ]
    },
    {
      "cell_type": "code",
      "source": [
        "[1,2]+[1,2]"
      ],
      "metadata": {
        "id": "n5XJ99RlnowY",
        "colab": {
          "base_uri": "https://localhost:8080/"
        },
        "outputId": "004416ca-b827-4099-b5d1-a36fa50b7409"
      },
      "execution_count": null,
      "outputs": [
        {
          "output_type": "execute_result",
          "data": {
            "text/plain": [
              "[1, 2, 1, 2]"
            ]
          },
          "metadata": {},
          "execution_count": 3
        }
      ]
    },
    {
      "cell_type": "code",
      "source": [],
      "metadata": {
        "id": "qaSl7r5bno3V"
      },
      "execution_count": null,
      "outputs": []
    },
    {
      "cell_type": "code",
      "source": [
        "f\"Hola\""
      ],
      "metadata": {
        "id": "bCpZ5YLNa2Pd",
        "outputId": "61d80c65-14f6-484a-fdc0-ace402953fdc",
        "colab": {
          "base_uri": "https://localhost:8080/",
          "height": 35
        }
      },
      "execution_count": null,
      "outputs": [
        {
          "output_type": "execute_result",
          "data": {
            "text/plain": [
              "'Hola'"
            ],
            "application/vnd.google.colaboratory.intrinsic+json": {
              "type": "string"
            }
          },
          "metadata": {},
          "execution_count": 1
        }
      ]
    },
    {
      "cell_type": "code",
      "source": [
        "lista_1 = [1, 2, 3]\n",
        "lista_2 = [\"Juan\", \"Ana\", \"Pepe\"]"
      ],
      "metadata": {
        "id": "1LiSVLF6CfnE"
      },
      "execution_count": null,
      "outputs": []
    },
    {
      "cell_type": "code",
      "source": [
        "# a. Añade a la LISTA1 el int 100 y luego el string “Hola Mundo”"
      ],
      "metadata": {
        "id": "pVgmsTFmCtQE"
      },
      "execution_count": null,
      "outputs": []
    },
    {
      "cell_type": "code",
      "source": [
        "lista_1.append(100)"
      ],
      "metadata": {
        "id": "vRw3scwEC1KE"
      },
      "execution_count": null,
      "outputs": []
    },
    {
      "cell_type": "code",
      "source": [
        "lista_1.append(\"Hola Mundo\")"
      ],
      "metadata": {
        "id": "wZR_GTgHC1W9"
      },
      "execution_count": null,
      "outputs": []
    },
    {
      "cell_type": "code",
      "source": [
        "lista_1"
      ],
      "metadata": {
        "id": "Kbi41IESC8RD"
      },
      "execution_count": null,
      "outputs": []
    },
    {
      "cell_type": "code",
      "source": [
        "# b. Luego añade a la LISTA2 el string “Hola y Adios” y luego el int 300\n",
        "lista_2.append(\"Hola y Adios\")\n",
        "lista_2.append(300)"
      ],
      "metadata": {
        "id": "-1Dw8d0lC-mu"
      },
      "execution_count": null,
      "outputs": []
    },
    {
      "cell_type": "code",
      "source": [
        "lista_2"
      ],
      "metadata": {
        "id": "p9gKnyx8DP8x"
      },
      "execution_count": null,
      "outputs": []
    },
    {
      "cell_type": "code",
      "source": [
        "# c. Genera una LISTA3 con todos los elementos de la LISTA1 sin considerar el último elemento\n",
        "lista_3 = lista_1[0:-1]"
      ],
      "metadata": {
        "id": "uvB8qGdIDeYM"
      },
      "execution_count": null,
      "outputs": []
    },
    {
      "cell_type": "code",
      "source": [
        "lista_3"
      ],
      "metadata": {
        "id": "OqKej7RvDyFn"
      },
      "execution_count": null,
      "outputs": []
    },
    {
      "cell_type": "code",
      "source": [
        "# d. Genera una LISTA4 con todos los elementos de la LISTA2 menos el primero y el último elemento\n",
        "lista_4 = lista_2[1:-1]"
      ],
      "metadata": {
        "id": "YCwPLA-fD2HW"
      },
      "execution_count": null,
      "outputs": []
    },
    {
      "cell_type": "code",
      "source": [
        "lista_4"
      ],
      "metadata": {
        "id": "xnOLqlcLEE-i"
      },
      "execution_count": null,
      "outputs": []
    },
    {
      "cell_type": "code",
      "source": [
        "# e. Finalmente, genera una LISTA5 con los elementos de la LISTA4 y de la LISTA3\n",
        "lista_5 = lista_4 + lista_3\n",
        "lista_5"
      ],
      "metadata": {
        "id": "0rSaV_sAEKME"
      },
      "execution_count": null,
      "outputs": []
    },
    {
      "cell_type": "code",
      "source": [],
      "metadata": {
        "id": "qhvwqc0vEKSs"
      },
      "execution_count": null,
      "outputs": []
    },
    {
      "cell_type": "code",
      "source": [
        "\"\"\"\n",
        "Descripción de la actividad.\n",
        "A partir de una variable llamada tupla, imprimir por pantalla de forma ordenada, lo siguiente:\n",
        "1. El último ítem de tupla\n",
        "2. El número de ítems de tupla\n",
        "3. La posición donde se encuentra el ítem 87 de tupla\n",
        "4. Una lista con los últimos tres ítems de tupla\n",
        "5. Un ítem que haya en la posición 8 de tupla\n",
        "6. El número de veces que el ítem 7 aparece en tupla\n",
        "\n",
        "Copia esta tupla para iniciar el ejercicio:\n",
        "tupla = (8, 15, 4, 39, 5, 89, 87,  19, 7, -755, 88, 123, 2, 11, 15, 9, 355)\n",
        "\"\"\""
      ],
      "metadata": {
        "id": "zpxaLZ2drWoM"
      },
      "execution_count": null,
      "outputs": []
    },
    {
      "cell_type": "code",
      "source": [
        "tupla = (8, 15, 4, 39, 5, 89, 87,  19, 7, -755, 88, 123, 2, 11, 15, 9, 355)"
      ],
      "metadata": {
        "id": "oI5mFYP3rYtT"
      },
      "execution_count": null,
      "outputs": []
    },
    {
      "cell_type": "code",
      "source": [
        "# 1. El último ítem de tupla\n",
        "print(tupla[-1])"
      ],
      "metadata": {
        "id": "V3pyHvqhsAbx",
        "colab": {
          "base_uri": "https://localhost:8080/"
        },
        "outputId": "9fcba66b-98fd-451b-dd6e-b64734862269"
      },
      "execution_count": null,
      "outputs": [
        {
          "output_type": "stream",
          "name": "stdout",
          "text": [
            "355\n"
          ]
        }
      ]
    },
    {
      "cell_type": "code",
      "source": [
        "# 2. El número de ítems de tupla\n",
        "print(len(tupla))"
      ],
      "metadata": {
        "colab": {
          "base_uri": "https://localhost:8080/"
        },
        "id": "0AZn2fd2KO1Q",
        "outputId": "f83a8a46-08b0-4b5a-aaf5-6de6ed011289"
      },
      "execution_count": null,
      "outputs": [
        {
          "output_type": "stream",
          "name": "stdout",
          "text": [
            "17\n"
          ]
        }
      ]
    },
    {
      "cell_type": "code",
      "source": [
        "# 3. La posición donde se encuentra el ítem 87 de tupla\n",
        "# ¿En que indice esta el elemento 87?\n",
        "print(tupla.index(87))"
      ],
      "metadata": {
        "colab": {
          "base_uri": "https://localhost:8080/"
        },
        "id": "iwR30NPpKYVG",
        "outputId": "0372df3c-dc31-424d-ead8-cac0bd9b645e"
      },
      "execution_count": null,
      "outputs": [
        {
          "output_type": "stream",
          "name": "stdout",
          "text": [
            "6\n"
          ]
        }
      ]
    },
    {
      "cell_type": "code",
      "source": [
        "# 4. Una lista con los últimos tres ítems de tupla\n",
        "print(list(tupla[-3:]))"
      ],
      "metadata": {
        "colab": {
          "base_uri": "https://localhost:8080/"
        },
        "id": "vO7uukajKYcC",
        "outputId": "6c7b6550-693b-43e4-9401-bf5d3d3ca93a"
      },
      "execution_count": null,
      "outputs": [
        {
          "output_type": "stream",
          "name": "stdout",
          "text": [
            "[15, 9, 355]\n"
          ]
        }
      ]
    },
    {
      "cell_type": "code",
      "source": [
        "# 5. El ítem que esta en la index 8 de tupla\n",
        "# Que elemento esta en la posicion 8\n",
        "print(tupla[8])"
      ],
      "metadata": {
        "colab": {
          "base_uri": "https://localhost:8080/"
        },
        "id": "1o__SQPBKcQ7",
        "outputId": "c3f440cc-a0ae-4064-d226-a7e11d6afd7d"
      },
      "execution_count": null,
      "outputs": [
        {
          "output_type": "stream",
          "name": "stdout",
          "text": [
            "7\n"
          ]
        }
      ]
    },
    {
      "cell_type": "code",
      "source": [
        "# 6. El número de veces que el ítem 7 aparece en tupla\n",
        "print(tupla.count(7))"
      ],
      "metadata": {
        "colab": {
          "base_uri": "https://localhost:8080/"
        },
        "id": "Hy0fnncFKgMN",
        "outputId": "02143cfc-4c91-4286-d119-6e18ff044ae0"
      },
      "execution_count": null,
      "outputs": [
        {
          "output_type": "stream",
          "name": "stdout",
          "text": [
            "1\n"
          ]
        }
      ]
    }
  ]
}