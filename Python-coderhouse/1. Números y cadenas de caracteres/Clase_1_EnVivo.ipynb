{
  "cells": [
    {
      "cell_type": "markdown",
      "metadata": {
        "id": "o150WysVJNNe"
      },
      "source": [
        "# Numeros\n"
      ]
    },
    {
      "cell_type": "code",
      "execution_count": null,
      "metadata": {
        "colab": {
          "base_uri": "https://localhost:8080/"
        },
        "id": "I7xyf1YwJqtj",
        "outputId": "6a8100d5-3538-439f-f532-27bde44782c4"
      },
      "outputs": [
        {
          "output_type": "execute_result",
          "data": {
            "text/plain": [
              "5"
            ]
          },
          "metadata": {},
          "execution_count": 3
        }
      ],
      "source": [
        "5"
      ]
    },
    {
      "cell_type": "code",
      "execution_count": null,
      "metadata": {
        "colab": {
          "base_uri": "https://localhost:8080/"
        },
        "id": "A7b6Zdjvb--T",
        "outputId": "894de258-2c27-411f-f802-31fca6288266"
      },
      "outputs": [
        {
          "output_type": "execute_result",
          "data": {
            "text/plain": [
              "121"
            ]
          },
          "metadata": {},
          "execution_count": 4
        }
      ],
      "source": [
        "100 + 21"
      ]
    },
    {
      "cell_type": "code",
      "execution_count": null,
      "metadata": {
        "colab": {
          "base_uri": "https://localhost:8080/"
        },
        "id": "XK15QPXxb_Fk",
        "outputId": "d3cbd669-89a8-4b38-a837-f40c7b360cf7"
      },
      "outputs": [
        {
          "output_type": "execute_result",
          "data": {
            "text/plain": [
              "5.359999999999999"
            ]
          },
          "metadata": {},
          "execution_count": 5
        }
      ],
      "source": [
        "# Estos son floats (punto flotante, es un tipo para expresar un numero decimal)\n",
        "3.21 + 2.15"
      ]
    },
    {
      "cell_type": "code",
      "execution_count": null,
      "metadata": {
        "colab": {
          "base_uri": "https://localhost:8080/"
        },
        "id": "sV-KZxdEb_Mg",
        "outputId": "93b63d89-4537-434e-af4a-859a2aa22cc5"
      },
      "outputs": [
        {
          "output_type": "execute_result",
          "data": {
            "text/plain": [
              "Decimal('5.36')"
            ]
          },
          "metadata": {},
          "execution_count": 6
        }
      ],
      "source": [
        "# la clase Decimal es otro forma de expresar un número decimal\n",
        "from decimal import Decimal\n",
        "Decimal(\"3.21\") + Decimal(\"2.15\")"
      ]
    },
    {
      "cell_type": "code",
      "execution_count": null,
      "metadata": {
        "id": "thAjI4Opdmet"
      },
      "outputs": [],
      "source": [
        "# Cual es la diferencia?\n",
        "# Decimal es más exacto manejando los decimales comparado con float\n",
        "# float tiene una pequeña mejora en performance"
      ]
    },
    {
      "cell_type": "code",
      "execution_count": null,
      "metadata": {
        "colab": {
          "base_uri": "https://localhost:8080/"
        },
        "id": "pJGpm9SRMm8b",
        "outputId": "af188e61-ad6b-4095-9e90-5e82edce092e"
      },
      "outputs": [
        {
          "output_type": "execute_result",
          "data": {
            "text/plain": [
              "7"
            ]
          },
          "metadata": {},
          "execution_count": 7
        }
      ],
      "source": [
        "15//2"
      ]
    },
    {
      "cell_type": "code",
      "source": [
        "15%2"
      ],
      "metadata": {
        "colab": {
          "base_uri": "https://localhost:8080/"
        },
        "id": "eVtCYiTCxNAC",
        "outputId": "b6bf7047-b100-40f9-cc60-118408170255"
      },
      "execution_count": null,
      "outputs": [
        {
          "output_type": "execute_result",
          "data": {
            "text/plain": [
              "1"
            ]
          },
          "metadata": {},
          "execution_count": 8
        }
      ]
    },
    {
      "cell_type": "code",
      "execution_count": null,
      "metadata": {
        "colab": {
          "base_uri": "https://localhost:8080/"
        },
        "id": "cP1BI48kMq3h",
        "outputId": "6e0f73c1-44c1-494d-9e84-2e53e66d4302"
      },
      "outputs": [
        {
          "output_type": "execute_result",
          "data": {
            "text/plain": [
              "2"
            ]
          },
          "metadata": {},
          "execution_count": 9
        }
      ],
      "source": [
        "7%5"
      ]
    },
    {
      "cell_type": "code",
      "execution_count": null,
      "metadata": {
        "colab": {
          "base_uri": "https://localhost:8080/"
        },
        "id": "o7YchViJJq0K",
        "outputId": "e35876ee-dda0-497c-8c34-17a765470f3e"
      },
      "outputs": [
        {
          "output_type": "execute_result",
          "data": {
            "text/plain": [
              "1.2"
            ]
          },
          "metadata": {},
          "execution_count": 10
        }
      ],
      "source": [
        "6/5"
      ]
    },
    {
      "cell_type": "code",
      "execution_count": null,
      "metadata": {
        "colab": {
          "base_uri": "https://localhost:8080/"
        },
        "id": "VzEA-q3eccnS",
        "outputId": "38055006-d4d6-4b24-e1a4-3bfb60a9d60d"
      },
      "outputs": [
        {
          "output_type": "execute_result",
          "data": {
            "text/plain": [
              "2"
            ]
          },
          "metadata": {},
          "execution_count": 11
        }
      ],
      "source": [
        "5//2"
      ]
    },
    {
      "cell_type": "code",
      "execution_count": null,
      "metadata": {
        "id": "46_iO0UXc34E"
      },
      "outputs": [],
      "source": [
        "5/2"
      ]
    },
    {
      "cell_type": "code",
      "execution_count": null,
      "metadata": {
        "id": "d85qF_NTccuP"
      },
      "outputs": [],
      "source": [
        "# A esta operación se le llama modulo, resto o residuo. Son sinónimos (varia según el país o la fuente)\n",
        "5%2"
      ]
    },
    {
      "cell_type": "code",
      "execution_count": null,
      "metadata": {
        "colab": {
          "base_uri": "https://localhost:8080/"
        },
        "id": "kWUJXjFRJq7b",
        "outputId": "59f2fbd5-b5d0-44f6-e8c3-26f4d91fafbf"
      },
      "outputs": [
        {
          "output_type": "execute_result",
          "data": {
            "text/plain": [
              "8"
            ]
          },
          "metadata": {},
          "execution_count": 12
        }
      ],
      "source": [
        "2**3"
      ]
    },
    {
      "cell_type": "code",
      "execution_count": null,
      "metadata": {
        "id": "KrQZQh9pd7Se"
      },
      "outputs": [],
      "source": [
        "# Regla de precedencia\n",
        "# 5 + 4 * 3 + (20 * 5)  # primero va el parentesis\n",
        "# 5 + 4 * 3 + 100  # luego multiplicacion\n",
        "# 5 + 12 + 100  # por ultimo suma\n",
        "# 117"
      ]
    },
    {
      "cell_type": "code",
      "execution_count": null,
      "metadata": {
        "colab": {
          "base_uri": "https://localhost:8080/"
        },
        "id": "xeAdjSa9d7ZY",
        "outputId": "85671c44-e6c8-4ee0-df8f-fe773f4d7495"
      },
      "outputs": [
        {
          "output_type": "execute_result",
          "data": {
            "text/plain": [
              "117"
            ]
          },
          "metadata": {},
          "execution_count": 18
        }
      ],
      "source": [
        "5 + 4 * 3 + (20 * 5)"
      ]
    },
    {
      "cell_type": "code",
      "execution_count": null,
      "metadata": {
        "id": "AMao10_ON3TQ"
      },
      "outputs": [],
      "source": [
        "# Asi se escribe un comentario, usando #\n",
        "# 5 + 4 * 3 + 100\n",
        "# 5 + 12 + 100\n",
        "# 17 + 100\n",
        "# 117"
      ]
    },
    {
      "cell_type": "code",
      "source": [
        "5 + 10 # comentario"
      ],
      "metadata": {
        "colab": {
          "base_uri": "https://localhost:8080/"
        },
        "id": "r-uuVWGtza6q",
        "outputId": "65b83667-6c68-44ee-f348-bc8db64d4356"
      },
      "execution_count": null,
      "outputs": [
        {
          "output_type": "execute_result",
          "data": {
            "text/plain": [
              "15"
            ]
          },
          "metadata": {},
          "execution_count": 20
        }
      ]
    },
    {
      "cell_type": "code",
      "source": [
        "5 + 10 # + 100"
      ],
      "metadata": {
        "colab": {
          "base_uri": "https://localhost:8080/"
        },
        "id": "QSQ7qiFVzimd",
        "outputId": "db8402bb-6f80-4407-a9f8-c356a0860bf5"
      },
      "execution_count": null,
      "outputs": [
        {
          "output_type": "execute_result",
          "data": {
            "text/plain": [
              "15"
            ]
          },
          "metadata": {},
          "execution_count": 21
        }
      ]
    },
    {
      "cell_type": "code",
      "execution_count": null,
      "metadata": {
        "colab": {
          "base_uri": "https://localhost:8080/"
        },
        "id": "q4k65sCpd71D",
        "outputId": "f8132dba-fb1a-4809-f644-114b7e61513a"
      },
      "outputs": [
        {
          "output_type": "execute_result",
          "data": {
            "text/plain": [
              "int"
            ]
          },
          "metadata": {},
          "execution_count": 13
        }
      ],
      "source": [
        "type(20)"
      ]
    },
    {
      "cell_type": "code",
      "execution_count": null,
      "metadata": {
        "colab": {
          "base_uri": "https://localhost:8080/"
        },
        "id": "CpOjWsnPOYQ1",
        "outputId": "af12f106-0de0-4b05-dfdd-1d70cbef2704"
      },
      "outputs": [
        {
          "output_type": "execute_result",
          "data": {
            "text/plain": [
              "float"
            ]
          },
          "metadata": {},
          "execution_count": 14
        }
      ],
      "source": [
        "type(3.51)"
      ]
    },
    {
      "cell_type": "code",
      "execution_count": null,
      "metadata": {
        "colab": {
          "base_uri": "https://localhost:8080/"
        },
        "id": "BYNXMIrrO7o2",
        "outputId": "971e8a33-1668-4046-e204-ead58c8312c7"
      },
      "outputs": [
        {
          "output_type": "execute_result",
          "data": {
            "text/plain": [
              "int"
            ]
          },
          "metadata": {},
          "execution_count": 15
        }
      ],
      "source": [
        "type(5)"
      ]
    },
    {
      "cell_type": "code",
      "source": [
        "type(Decimal(\"3.21\"))"
      ],
      "metadata": {
        "colab": {
          "base_uri": "https://localhost:8080/"
        },
        "id": "N6C0JdEFxmGe",
        "outputId": "c64f7184-4bf9-4e7e-cb0b-c0cb33e64147"
      },
      "execution_count": null,
      "outputs": [
        {
          "output_type": "execute_result",
          "data": {
            "text/plain": [
              "decimal.Decimal"
            ]
          },
          "metadata": {},
          "execution_count": 16
        }
      ]
    },
    {
      "cell_type": "code",
      "execution_count": null,
      "metadata": {
        "id": "QCoOZEk7PCYp"
      },
      "outputs": [],
      "source": [
        "type(2.21)"
      ]
    },
    {
      "cell_type": "code",
      "execution_count": null,
      "metadata": {
        "colab": {
          "base_uri": "https://localhost:8080/"
        },
        "id": "JMCyhvqyPFcI",
        "outputId": "54d0a376-53bb-4b5a-d0a6-a2e2caa57c2c"
      },
      "outputs": [
        {
          "output_type": "execute_result",
          "data": {
            "text/plain": [
              "1.4142135623730951"
            ]
          },
          "metadata": {},
          "execution_count": 17
        }
      ],
      "source": [
        "# raiz cuadrada de 2\n",
        "2**(1/2)"
      ]
    },
    {
      "cell_type": "markdown",
      "metadata": {
        "id": "W4iYCnI1fnPI"
      },
      "source": [
        "# Cadenas de texto"
      ]
    },
    {
      "cell_type": "code",
      "execution_count": null,
      "metadata": {
        "colab": {
          "base_uri": "https://localhost:8080/",
          "height": 35
        },
        "id": "9DQQlF0hd793",
        "outputId": "f7119c23-92a8-4804-bb23-d53ef631fe74"
      },
      "outputs": [
        {
          "output_type": "execute_result",
          "data": {
            "text/plain": [
              "'hola mundo'"
            ],
            "application/vnd.google.colaboratory.intrinsic+json": {
              "type": "string"
            }
          },
          "metadata": {},
          "execution_count": 22
        }
      ],
      "source": [
        "\"hola mundo\""
      ]
    },
    {
      "cell_type": "code",
      "execution_count": null,
      "metadata": {
        "colab": {
          "base_uri": "https://localhost:8080/",
          "height": 35
        },
        "id": "Vv5jzJSwfr25",
        "outputId": "5b5a118a-fe34-4754-d38d-3a4058b166aa"
      },
      "outputs": [
        {
          "output_type": "execute_result",
          "data": {
            "text/plain": [
              "'hola mundo'"
            ],
            "application/vnd.google.colaboratory.intrinsic+json": {
              "type": "string"
            }
          },
          "metadata": {},
          "execution_count": 23
        }
      ],
      "source": [
        "'hola mundo'"
      ]
    },
    {
      "cell_type": "code",
      "execution_count": null,
      "metadata": {
        "colab": {
          "base_uri": "https://localhost:8080/"
        },
        "id": "x6oh1xrbfuZ3",
        "outputId": "f10bab01-8ee0-4841-fde2-dd0229a0c5a1"
      },
      "outputs": [
        {
          "output_type": "execute_result",
          "data": {
            "text/plain": [
              "str"
            ]
          },
          "metadata": {},
          "execution_count": 24
        }
      ],
      "source": [
        "type('hola mundo')"
      ]
    },
    {
      "cell_type": "code",
      "execution_count": null,
      "metadata": {
        "id": "oUD5-PkNQ8Re"
      },
      "outputs": [],
      "source": []
    },
    {
      "cell_type": "code",
      "execution_count": null,
      "metadata": {
        "colab": {
          "base_uri": "https://localhost:8080/"
        },
        "id": "tV_lXKUkgAd4",
        "outputId": "2840ba49-44b7-449f-db33-1b0ed6d13aea"
      },
      "outputs": [
        {
          "output_type": "stream",
          "name": "stdout",
          "text": [
            "esto es una cadena\n"
          ]
        }
      ],
      "source": [
        "print(\"esto es una cadena\")"
      ]
    },
    {
      "cell_type": "code",
      "execution_count": null,
      "metadata": {
        "colab": {
          "base_uri": "https://localhost:8080/"
        },
        "id": "SvuxnlaQgsA9",
        "outputId": "0f6430fb-f769-4b7b-9d03-9f9c9ebd4f56"
      },
      "outputs": [
        {
          "output_type": "stream",
          "name": "stdout",
          "text": [
            "esto es un \n",
            "salto de linea\n"
          ]
        }
      ],
      "source": [
        "print(\"esto es un \\nsalto de linea\")"
      ]
    },
    {
      "cell_type": "code",
      "execution_count": null,
      "metadata": {
        "colab": {
          "base_uri": "https://localhost:8080/"
        },
        "id": "MTnOWm6TgsG6",
        "outputId": "f2fb8f48-e3b4-478b-b62e-e41d87a7e9af"
      },
      "outputs": [
        {
          "output_type": "stream",
          "name": "stdout",
          "text": [
            "esto es un \ttabulador\n"
          ]
        }
      ],
      "source": [
        "print(\"esto es un \\ttabulador\")"
      ]
    },
    {
      "cell_type": "code",
      "execution_count": null,
      "metadata": {
        "colab": {
          "base_uri": "https://localhost:8080/"
        },
        "id": "VTIowSoDfu1h",
        "outputId": "82a8f1bc-8dc9-47ef-f2c4-bf364359f5fa"
      },
      "outputs": [
        {
          "output_type": "stream",
          "name": "stdout",
          "text": [
            "esto es un \\nsalto de linea\n"
          ]
        }
      ],
      "source": [
        "print(r\"esto es un \\nsalto de linea\")  # imprimir texto raw"
      ]
    },
    {
      "cell_type": "code",
      "source": [
        "type(r\"hola\")"
      ],
      "metadata": {
        "colab": {
          "base_uri": "https://localhost:8080/"
        },
        "id": "Un6Hd3K71ROU",
        "outputId": "aa7da6d1-3534-42af-fbe8-1dd5a7628a81"
      },
      "execution_count": null,
      "outputs": [
        {
          "output_type": "execute_result",
          "data": {
            "text/plain": [
              "str"
            ]
          },
          "metadata": {},
          "execution_count": 29
        }
      ]
    },
    {
      "cell_type": "code",
      "execution_count": null,
      "metadata": {
        "colab": {
          "base_uri": "https://localhost:8080/"
        },
        "id": "HFFFAeTTR8kK",
        "outputId": "21fcf6a5-79a8-4cbd-c939-87e68d57552d"
      },
      "outputs": [
        {
          "output_type": "stream",
          "name": "stdout",
          "text": [
            "C:\n",
            "orberto\\directorio\n"
          ]
        }
      ],
      "source": [
        "print(\"C:\\norberto\\directorio\")"
      ]
    },
    {
      "cell_type": "code",
      "execution_count": null,
      "metadata": {
        "colab": {
          "base_uri": "https://localhost:8080/"
        },
        "id": "qD5Zh-NySHzo",
        "outputId": "6bdf1c78-db41-434c-9212-26a3fa10c7bc"
      },
      "outputs": [
        {
          "output_type": "stream",
          "name": "stdout",
          "text": [
            "C:\\norberto\\directorio\n"
          ]
        }
      ],
      "source": [
        "print(r\"C:\\norberto\\directorio\")"
      ]
    },
    {
      "cell_type": "code",
      "execution_count": null,
      "metadata": {
        "colab": {
          "base_uri": "https://localhost:8080/"
        },
        "id": "a2WFyAz2hx5w",
        "outputId": "dfaf5589-cbb0-43ef-b05c-f46c9a13c504"
      },
      "outputs": [
        {
          "output_type": "stream",
          "name": "stdout",
          "text": [
            "una cadena\n",
            "otra cadena\n",
            "otra linea\n",
            "una linea mas\n",
            "otra cadena más\n",
            "\n"
          ]
        }
      ],
      "source": [
        "# texto multilinea\n",
        "\n",
        "print(\"\"\"una cadena\n",
        "otra cadena\n",
        "otra linea\n",
        "una linea mas\n",
        "otra cadena más\n",
        "\"\"\")"
      ]
    },
    {
      "cell_type": "code",
      "execution_count": null,
      "metadata": {
        "id": "EQX0oWWzhyJB"
      },
      "outputs": [],
      "source": []
    },
    {
      "cell_type": "code",
      "source": [
        "\"hola\" + \"mundo\""
      ],
      "metadata": {
        "colab": {
          "base_uri": "https://localhost:8080/",
          "height": 35
        },
        "id": "OJPyw8IZ2SD4",
        "outputId": "6a7d15af-653c-428a-f762-85f8816ea606"
      },
      "execution_count": null,
      "outputs": [
        {
          "output_type": "execute_result",
          "data": {
            "text/plain": [
              "'holamundo'"
            ],
            "application/vnd.google.colaboratory.intrinsic+json": {
              "type": "string"
            }
          },
          "metadata": {},
          "execution_count": 35
        }
      ]
    },
    {
      "cell_type": "code",
      "source": [
        "\"hola mundo\""
      ],
      "metadata": {
        "colab": {
          "base_uri": "https://localhost:8080/",
          "height": 35
        },
        "id": "XAy2PIhW2cUC",
        "outputId": "4ae3e6c8-6001-4075-dc93-3c2f0d4d2a30"
      },
      "execution_count": null,
      "outputs": [
        {
          "output_type": "execute_result",
          "data": {
            "text/plain": [
              "'hola mundo'"
            ],
            "application/vnd.google.colaboratory.intrinsic+json": {
              "type": "string"
            }
          },
          "metadata": {},
          "execution_count": 36
        }
      ]
    },
    {
      "cell_type": "code",
      "source": [
        "print(\"hola mundo\")"
      ],
      "metadata": {
        "colab": {
          "base_uri": "https://localhost:8080/"
        },
        "id": "lxPml32s2dph",
        "outputId": "5f5a56a4-263b-43c0-d239-abd367894c5a"
      },
      "execution_count": null,
      "outputs": [
        {
          "output_type": "stream",
          "name": "stdout",
          "text": [
            "hola mundo\n"
          ]
        }
      ]
    },
    {
      "cell_type": "code",
      "source": [],
      "metadata": {
        "id": "zNOpFbm35DN_"
      },
      "execution_count": null,
      "outputs": []
    },
    {
      "cell_type": "markdown",
      "metadata": {
        "id": "Djst0v9qZ5ck"
      },
      "source": [
        "# Variables Numéricas"
      ]
    },
    {
      "cell_type": "code",
      "execution_count": null,
      "metadata": {
        "id": "QBqT4JbtZ5c2"
      },
      "outputs": [],
      "source": [
        "#Vamos a crear nuestras primeras variables en Python\n",
        "x = 12  # a \"x le asignamos 12\""
      ]
    },
    {
      "cell_type": "code",
      "execution_count": null,
      "metadata": {
        "colab": {
          "base_uri": "https://localhost:8080/"
        },
        "id": "hZOxqnjCWwLT",
        "outputId": "df54b72a-fd57-4854-c807-138db6e4ff4f"
      },
      "outputs": [
        {
          "output_type": "execute_result",
          "data": {
            "text/plain": [
              "12"
            ]
          },
          "metadata": {},
          "execution_count": 39
        }
      ],
      "source": [
        "x"
      ]
    },
    {
      "cell_type": "code",
      "execution_count": null,
      "metadata": {
        "colab": {
          "base_uri": "https://localhost:8080/"
        },
        "id": "fsW5XrigVCgt",
        "outputId": "ba9510a2-b331-48a7-eaff-1288fbaf1add"
      },
      "outputs": [
        {
          "output_type": "execute_result",
          "data": {
            "text/plain": [
              "140449217249872"
            ]
          },
          "metadata": {},
          "execution_count": 42
        }
      ],
      "source": [
        "id(x)"
      ]
    },
    {
      "cell_type": "code",
      "execution_count": null,
      "metadata": {
        "id": "qjyITqUqWwFV"
      },
      "outputs": [],
      "source": [
        "y = 13.5"
      ]
    },
    {
      "cell_type": "code",
      "execution_count": null,
      "metadata": {
        "id": "dYdwlGivWv7h",
        "colab": {
          "base_uri": "https://localhost:8080/"
        },
        "outputId": "9616bbcd-e401-4853-8aab-9bf04a0de2de"
      },
      "outputs": [
        {
          "output_type": "execute_result",
          "data": {
            "text/plain": [
              "13.5"
            ]
          },
          "metadata": {},
          "execution_count": 41
        }
      ],
      "source": [
        "y"
      ]
    },
    {
      "cell_type": "code",
      "source": [
        "id(y)"
      ],
      "metadata": {
        "colab": {
          "base_uri": "https://localhost:8080/"
        },
        "id": "l9__d4ro5ueB",
        "outputId": "751919dc-98f4-4038-f97c-7833678a15db"
      },
      "execution_count": null,
      "outputs": [
        {
          "output_type": "execute_result",
          "data": {
            "text/plain": [
              "140448923328208"
            ]
          },
          "metadata": {},
          "execution_count": 43
        }
      ]
    },
    {
      "cell_type": "code",
      "execution_count": null,
      "metadata": {
        "id": "wUELwShVeWm1",
        "colab": {
          "base_uri": "https://localhost:8080/"
        },
        "outputId": "21dac419-3016-4cf8-a14c-d765400b05b6"
      },
      "outputs": [
        {
          "output_type": "execute_result",
          "data": {
            "text/plain": [
              "int"
            ]
          },
          "metadata": {},
          "execution_count": 44
        }
      ],
      "source": [
        "#Visualizamos el tipo de dato de x\n",
        "type(x)"
      ]
    },
    {
      "cell_type": "code",
      "execution_count": null,
      "metadata": {
        "colab": {
          "base_uri": "https://localhost:8080/"
        },
        "id": "3Xc8hjm_eWho",
        "outputId": "9d1aeea1-b102-4019-8864-5553e2a3cf33"
      },
      "outputs": [
        {
          "output_type": "execute_result",
          "data": {
            "text/plain": [
              "float"
            ]
          },
          "metadata": {},
          "execution_count": 45
        }
      ],
      "source": [
        "#Visualizamos el tipo de dato de y\n",
        "type(y)"
      ]
    },
    {
      "cell_type": "code",
      "execution_count": null,
      "metadata": {
        "id": "km5Q12SakJXt",
        "colab": {
          "base_uri": "https://localhost:8080/",
          "height": 176
        },
        "outputId": "c6bbc03f-8242-42a9-9ee3-9555fb15ff69"
      },
      "outputs": [
        {
          "output_type": "error",
          "ename": "NameError",
          "evalue": "ignored",
          "traceback": [
            "\u001b[0;31m---------------------------------------------------------------------------\u001b[0m",
            "\u001b[0;31mNameError\u001b[0m                                 Traceback (most recent call last)",
            "\u001b[0;32m<ipython-input-46-4d5b80b7a8c9>\u001b[0m in \u001b[0;36m<cell line: 1>\u001b[0;34m()\u001b[0m\n\u001b[0;32m----> 1\u001b[0;31m \u001b[0mchocolate\u001b[0m\u001b[0;34m\u001b[0m\u001b[0;34m\u001b[0m\u001b[0m\n\u001b[0m",
            "\u001b[0;31mNameError\u001b[0m: name 'chocolate' is not defined"
          ]
        }
      ],
      "source": [
        "chocolate"
      ]
    },
    {
      "cell_type": "code",
      "execution_count": null,
      "metadata": {
        "id": "To9P0DcrkXTO"
      },
      "outputs": [],
      "source": [
        "edad_juan = 20"
      ]
    },
    {
      "cell_type": "code",
      "execution_count": null,
      "metadata": {
        "id": "_fuz-hZFkXZ4",
        "colab": {
          "base_uri": "https://localhost:8080/"
        },
        "outputId": "858f89b6-b582-478c-c292-4ce480a98db5"
      },
      "outputs": [
        {
          "output_type": "execute_result",
          "data": {
            "text/plain": [
              "20"
            ]
          },
          "metadata": {},
          "execution_count": 48
        }
      ],
      "source": [
        "edad_juan"
      ]
    },
    {
      "cell_type": "code",
      "execution_count": null,
      "metadata": {
        "id": "M-sExL3GkWb7"
      },
      "outputs": [],
      "source": [
        "edad_carlos = 30"
      ]
    },
    {
      "cell_type": "code",
      "execution_count": null,
      "metadata": {
        "id": "_VBFk_sukJep"
      },
      "outputs": [],
      "source": [
        "nombre = \"Pedro\""
      ]
    },
    {
      "cell_type": "code",
      "execution_count": null,
      "metadata": {
        "id": "ZD5JL7wCkJlj",
        "colab": {
          "base_uri": "https://localhost:8080/",
          "height": 35
        },
        "outputId": "fdc509fe-7a65-4f1f-b18a-57f35d2ee723"
      },
      "outputs": [
        {
          "output_type": "execute_result",
          "data": {
            "text/plain": [
              "'Pedro'"
            ],
            "application/vnd.google.colaboratory.intrinsic+json": {
              "type": "string"
            }
          },
          "metadata": {},
          "execution_count": 51
        }
      ],
      "source": [
        "nombre"
      ]
    },
    {
      "cell_type": "code",
      "execution_count": null,
      "metadata": {
        "id": "gjEx0l0MlUGS"
      },
      "outputs": [],
      "source": [
        "malNompreVariable = 10  # no es recomendado en Python"
      ]
    },
    {
      "cell_type": "code",
      "execution_count": null,
      "metadata": {
        "id": "dk-I6-2mlUOa"
      },
      "outputs": [],
      "source": [
        "buen_nombre_variable_1 = 20  # estandard snake_case"
      ]
    },
    {
      "cell_type": "code",
      "execution_count": null,
      "metadata": {
        "id": "Bp3rz9W1lUYJ"
      },
      "outputs": [],
      "source": []
    },
    {
      "cell_type": "code",
      "source": [
        "x = 20\n",
        "y = 30"
      ],
      "metadata": {
        "id": "Bm65jnqi6cM2"
      },
      "execution_count": null,
      "outputs": []
    },
    {
      "cell_type": "code",
      "source": [
        "x + y"
      ],
      "metadata": {
        "colab": {
          "base_uri": "https://localhost:8080/"
        },
        "id": "_3kQGC1v6bkO",
        "outputId": "3a892dab-b1bd-4d7e-91de-5ee9326ecab1"
      },
      "execution_count": null,
      "outputs": [
        {
          "output_type": "execute_result",
          "data": {
            "text/plain": [
              "50"
            ]
          },
          "metadata": {},
          "execution_count": 55
        }
      ]
    },
    {
      "cell_type": "code",
      "source": [
        "nombre = Pedro"
      ],
      "metadata": {
        "colab": {
          "base_uri": "https://localhost:8080/",
          "height": 176
        },
        "id": "OtTyo65J6r50",
        "outputId": "da3f1ed7-57d3-41c6-e4a4-55c9fc00936b"
      },
      "execution_count": null,
      "outputs": [
        {
          "output_type": "error",
          "ename": "NameError",
          "evalue": "ignored",
          "traceback": [
            "\u001b[0;31m---------------------------------------------------------------------------\u001b[0m",
            "\u001b[0;31mNameError\u001b[0m                                 Traceback (most recent call last)",
            "\u001b[0;32m<ipython-input-56-3f4264405c05>\u001b[0m in \u001b[0;36m<cell line: 1>\u001b[0;34m()\u001b[0m\n\u001b[0;32m----> 1\u001b[0;31m \u001b[0mnombre\u001b[0m \u001b[0;34m=\u001b[0m \u001b[0mPedro\u001b[0m\u001b[0;34m\u001b[0m\u001b[0;34m\u001b[0m\u001b[0m\n\u001b[0m",
            "\u001b[0;31mNameError\u001b[0m: name 'Pedro' is not defined"
          ]
        }
      ]
    },
    {
      "cell_type": "code",
      "source": [],
      "metadata": {
        "id": "nRYppeLA6sLx"
      },
      "execution_count": null,
      "outputs": []
    },
    {
      "cell_type": "code",
      "execution_count": null,
      "metadata": {
        "id": "tvFqDr6AH1a5"
      },
      "outputs": [],
      "source": [
        "#Veamos mas ejemplos:\n",
        "x = 5\n",
        "y = \"Paul\"\n",
        "print(x)\n",
        "print(y)"
      ]
    },
    {
      "cell_type": "code",
      "execution_count": null,
      "metadata": {
        "id": "EqUE5PxGH1a5"
      },
      "outputs": [],
      "source": [
        "#Si deseamos definir el tipo de dato de una variable podemos por ejmplo hacer lo siguiente:\n",
        "x = str(5)    # x sera '5'\n",
        "y = int(5)    # y sera 5\n",
        "z = float(5)  # z sera 5.0"
      ]
    },
    {
      "cell_type": "code",
      "execution_count": null,
      "metadata": {
        "id": "fUoaGEX8H1a5"
      },
      "outputs": [],
      "source": [
        "print(x)\n",
        "print(y)\n",
        "print(z)"
      ]
    },
    {
      "cell_type": "code",
      "execution_count": null,
      "metadata": {
        "id": "mbBJseG8H1a6"
      },
      "outputs": [],
      "source": [
        "#Importante: Python es Case Sentitive, el siguiente codigo creara 2 variables:\n",
        "a = 4\n",
        "A = \"Susan\""
      ]
    },
    {
      "cell_type": "markdown",
      "metadata": {
        "id": "iQSpaVF0H1a6"
      },
      "source": [
        "Nombres aceptados para las variables:"
      ]
    },
    {
      "cell_type": "code",
      "execution_count": null,
      "metadata": {
        "id": "sMxYupFzH1a6"
      },
      "outputs": [],
      "source": [
        "myvar = \"Susan\"\n",
        "my_var = \"Susan\"\n",
        "_my_var = \"Susan\"\n",
        "myVar = \"Susan\"\n",
        "MYVAR = \"Susan\"\n",
        "myvar2 = \"Susan\""
      ]
    },
    {
      "cell_type": "markdown",
      "metadata": {
        "id": "g6Fh62QiH1a6"
      },
      "source": [
        "Nombres no aceptados para las variables:"
      ]
    },
    {
      "cell_type": "code",
      "execution_count": null,
      "metadata": {
        "id": "xkf_wwdtH1a6"
      },
      "outputs": [],
      "source": [
        "2myvar = \"John\"\n",
        "my-var = \"John\"\n",
        "my var = \"John\""
      ]
    },
    {
      "cell_type": "code",
      "execution_count": null,
      "metadata": {
        "id": "n5NY_PpyH1a6"
      },
      "outputs": [],
      "source": [
        "#Muchos valores para múltiples variables\n",
        "x, y, z = \"Naranja\", \"Manzana\", \"Cherry\"\n",
        "\n",
        "print(x)\n",
        "print(y)\n",
        "print(z)"
      ]
    },
    {
      "cell_type": "code",
      "execution_count": null,
      "metadata": {
        "id": "F3KaJsfdH1a7"
      },
      "outputs": [],
      "source": [
        "#Un valor para múltiples variables\n",
        "x = y = z = \"Naranja\"\n",
        "print(x)\n",
        "print(y)\n",
        "print(z)"
      ]
    },
    {
      "cell_type": "code",
      "execution_count": null,
      "metadata": {
        "id": "8aCTPmdmH1a7"
      },
      "outputs": [],
      "source": [
        "#Ejercicio 1: Crea una variable llamada Auto y asignale el valor de Mercedes Benz.\n",
        "\n",
        "Auto = \"Mercedes Benz\""
      ]
    },
    {
      "cell_type": "code",
      "execution_count": null,
      "metadata": {
        "id": "e7dTcTOkH1a7"
      },
      "outputs": [],
      "source": [
        "#Ejercicio 2: Elimine los caracteres ilegales en el nombre de la variable:\n",
        "\n",
        "my_first_name = \"Melannie\""
      ]
    },
    {
      "cell_type": "code",
      "execution_count": null,
      "metadata": {
        "id": "HzseNwyoH1a7"
      },
      "outputs": [],
      "source": [
        "#Ejercicio 3: Cree una variable llamada curso y asígnele el valor Python.\n",
        "\n",
        "curso = \"Python\""
      ]
    },
    {
      "cell_type": "markdown",
      "metadata": {
        "id": "Zf_2pxLdpwqP"
      },
      "source": [
        "## Conversión de variables numéricas"
      ]
    },
    {
      "cell_type": "code",
      "execution_count": null,
      "metadata": {
        "id": "SZ90wKBGoXax"
      },
      "outputs": [],
      "source": [
        "x = 4.6\n",
        "y = 5.4"
      ]
    },
    {
      "cell_type": "code",
      "execution_count": null,
      "metadata": {
        "id": "pz7E6znopvCt"
      },
      "outputs": [],
      "source": [
        "#Con esta función estamos convirtiendo a la variable x en una variable de tipo int\n",
        "z = int(x)\n",
        "z"
      ]
    },
    {
      "cell_type": "code",
      "execution_count": null,
      "metadata": {
        "id": "O0438vQMpu_g"
      },
      "outputs": [],
      "source": [
        "#La función round redondea el número al valor superior más próximo\n",
        "z = round(x)\n",
        "z"
      ]
    },
    {
      "cell_type": "code",
      "execution_count": null,
      "metadata": {
        "id": "kCFcrnXupuyJ"
      },
      "outputs": [],
      "source": [
        "#Veamos nuevamente el tipo de dato de x\n",
        "x = 4\n",
        "type(x)"
      ]
    },
    {
      "cell_type": "code",
      "execution_count": null,
      "metadata": {
        "id": "9obD8peRoc_Z"
      },
      "outputs": [],
      "source": [
        "#Convertimos en flotante\n",
        "z = float(x)\n",
        "z"
      ]
    },
    {
      "cell_type": "code",
      "execution_count": null,
      "metadata": {
        "id": "zkgi3q6Xoc8p"
      },
      "outputs": [],
      "source": [
        "type(z)"
      ]
    },
    {
      "cell_type": "markdown",
      "metadata": {
        "id": "7D9w2keoZ5dB"
      },
      "source": [
        "# Strings"
      ]
    },
    {
      "cell_type": "code",
      "execution_count": null,
      "metadata": {
        "id": "LCMkTrzw-s9H"
      },
      "outputs": [],
      "source": [
        "saludo = \"Hola mundo!\""
      ]
    },
    {
      "cell_type": "code",
      "execution_count": null,
      "metadata": {
        "id": "bA6kViAs-s0c"
      },
      "outputs": [],
      "source": [
        "type(saludo)"
      ]
    },
    {
      "cell_type": "code",
      "execution_count": null,
      "metadata": {
        "id": "8ltOAcKw9lKM"
      },
      "outputs": [],
      "source": [
        "print(saludo)"
      ]
    },
    {
      "cell_type": "code",
      "execution_count": null,
      "metadata": {
        "id": "k1Wg1BfKH1a9"
      },
      "outputs": [],
      "source": [
        "#Cadenas multilínea\n",
        "a = \"\"\"Lorem ipsum dolor sit amet,\n",
        "consectetur adipiscing elit,\n",
        "sed do eiusmod tempor incididunt\n",
        "ut labore et dolore magna aliqua.\"\"\"\n",
        "print(a)"
      ]
    },
    {
      "cell_type": "code",
      "execution_count": null,
      "metadata": {
        "id": "gcui8p-RH1a9"
      },
      "outputs": [],
      "source": [
        "#Formateo de Strings: Si yo intento combinar strings con nros obtendremos un error:\n",
        "edad = 36\n",
        "txt = \"Mi nombre es John, y tengo \" + edad\n",
        "print(txt)"
      ]
    },
    {
      "cell_type": "code",
      "execution_count": null,
      "metadata": {
        "id": "RJtgyVYYH1a9"
      },
      "outputs": [],
      "source": [
        "# Funcion format()\n",
        "edad = 36\n",
        "txt = \"Mi nombre es John, y tengo {}\"\n",
        "print(txt.format(edad))"
      ]
    },
    {
      "cell_type": "markdown",
      "metadata": {
        "id": "3PkqahQaH1a9"
      },
      "source": [
        "# Input"
      ]
    },
    {
      "cell_type": "code",
      "execution_count": null,
      "metadata": {
        "id": "yDXcjnOaH1a9",
        "colab": {
          "base_uri": "https://localhost:8080/"
        },
        "outputId": "8b7f2f53-1c1f-4512-9771-78d2fb2375a3"
      },
      "outputs": [
        {
          "name": "stdout",
          "output_type": "stream",
          "text": [
            "Ingrese su nombre: Pedro\n"
          ]
        }
      ],
      "source": [
        "nombre = input(\"Ingrese su nombre: \")"
      ]
    },
    {
      "cell_type": "code",
      "execution_count": null,
      "metadata": {
        "id": "MmXWa87Kl4OM",
        "colab": {
          "base_uri": "https://localhost:8080/",
          "height": 35
        },
        "outputId": "2f7ad6fb-27a9-49b7-f9bd-2368d0bb1444"
      },
      "outputs": [
        {
          "output_type": "execute_result",
          "data": {
            "text/plain": [
              "'Pedro'"
            ],
            "application/vnd.google.colaboratory.intrinsic+json": {
              "type": "string"
            }
          },
          "metadata": {},
          "execution_count": 58
        }
      ],
      "source": [
        "nombre"
      ]
    },
    {
      "cell_type": "code",
      "execution_count": null,
      "metadata": {
        "id": "WMCzpkIWmCBf",
        "colab": {
          "base_uri": "https://localhost:8080/"
        },
        "outputId": "df565b12-723d-4405-91eb-e9933f3cdc7e"
      },
      "outputs": [
        {
          "output_type": "execute_result",
          "data": {
            "text/plain": [
              "str"
            ]
          },
          "metadata": {},
          "execution_count": 59
        }
      ],
      "source": [
        "type(\"30\")"
      ]
    },
    {
      "cell_type": "code",
      "execution_count": null,
      "metadata": {
        "id": "9Z6WDmT4mCIt",
        "colab": {
          "base_uri": "https://localhost:8080/"
        },
        "outputId": "388b82cc-83ed-4d91-bab3-bcda7b1a4fe7"
      },
      "outputs": [
        {
          "output_type": "execute_result",
          "data": {
            "text/plain": [
              "int"
            ]
          },
          "metadata": {},
          "execution_count": 60
        }
      ],
      "source": [
        "type(30)"
      ]
    },
    {
      "cell_type": "code",
      "source": [
        "int(\"30\")"
      ],
      "metadata": {
        "colab": {
          "base_uri": "https://localhost:8080/"
        },
        "id": "7ELy61Ta7Sq1",
        "outputId": "7e6f792c-2401-4786-95e7-8b6aad496861"
      },
      "execution_count": null,
      "outputs": [
        {
          "output_type": "execute_result",
          "data": {
            "text/plain": [
              "30"
            ]
          },
          "metadata": {},
          "execution_count": 61
        }
      ]
    },
    {
      "cell_type": "code",
      "execution_count": null,
      "metadata": {
        "id": "HdjPjbZpmCPa",
        "colab": {
          "base_uri": "https://localhost:8080/"
        },
        "outputId": "569681e8-c339-44eb-bbdf-1b3894ab6d2c"
      },
      "outputs": [
        {
          "output_type": "execute_result",
          "data": {
            "text/plain": [
              "int"
            ]
          },
          "metadata": {},
          "execution_count": 62
        }
      ],
      "source": [
        "type(int(\"30\"))"
      ]
    },
    {
      "cell_type": "code",
      "source": [
        "int(\"hola\")"
      ],
      "metadata": {
        "colab": {
          "base_uri": "https://localhost:8080/",
          "height": 176
        },
        "id": "WKSq4NcR7iLi",
        "outputId": "1a5f1702-f3d8-4bde-df93-f8be7141c49f"
      },
      "execution_count": null,
      "outputs": [
        {
          "output_type": "error",
          "ename": "ValueError",
          "evalue": "ignored",
          "traceback": [
            "\u001b[0;31m---------------------------------------------------------------------------\u001b[0m",
            "\u001b[0;31mValueError\u001b[0m                                Traceback (most recent call last)",
            "\u001b[0;32m<ipython-input-63-62025142aa33>\u001b[0m in \u001b[0;36m<cell line: 1>\u001b[0;34m()\u001b[0m\n\u001b[0;32m----> 1\u001b[0;31m \u001b[0mint\u001b[0m\u001b[0;34m(\u001b[0m\u001b[0;34m\"hola\"\u001b[0m\u001b[0;34m)\u001b[0m\u001b[0;34m\u001b[0m\u001b[0;34m\u001b[0m\u001b[0m\n\u001b[0m",
            "\u001b[0;31mValueError\u001b[0m: invalid literal for int() with base 10: 'hola'"
          ]
        }
      ]
    },
    {
      "cell_type": "code",
      "execution_count": null,
      "metadata": {
        "id": "dvuBcev8mKPO"
      },
      "outputs": [],
      "source": []
    },
    {
      "cell_type": "code",
      "execution_count": null,
      "metadata": {
        "id": "ylDNTmMQlwlF"
      },
      "outputs": [],
      "source": [
        "# el input siempre guarda un texto, entonces debemos convertirlo en entero\n",
        "\n",
        "edad = int(input(\"Ingrese su edad: \"))\n",
        "print(edad)"
      ]
    },
    {
      "cell_type": "code",
      "execution_count": null,
      "metadata": {
        "id": "nlw7HATyH1a-"
      },
      "outputs": [],
      "source": [
        "#Otro ejemplo\n",
        "miNombre = input()"
      ]
    },
    {
      "cell_type": "code",
      "execution_count": null,
      "metadata": {
        "id": "ZJ0HFTkpH1a-"
      },
      "outputs": [],
      "source": [
        "print('Me alegro de conocerte, ' + miNombre)"
      ]
    },
    {
      "cell_type": "code",
      "execution_count": null,
      "metadata": {
        "id": "UvWPzExvmso2"
      },
      "outputs": [],
      "source": []
    },
    {
      "cell_type": "markdown",
      "metadata": {
        "id": "jpv9GQSGmtEY"
      },
      "source": [
        "# Operaciones con strings"
      ]
    },
    {
      "cell_type": "code",
      "execution_count": null,
      "metadata": {
        "id": "k_fGQ4UVmvcS"
      },
      "outputs": [],
      "source": [
        "cadena = \"Python\""
      ]
    },
    {
      "cell_type": "code",
      "execution_count": null,
      "metadata": {
        "id": "Kgd7d7kjmvjg",
        "colab": {
          "base_uri": "https://localhost:8080/"
        },
        "outputId": "8cf23b37-94d8-4d3a-a2d9-0a956efb97f0"
      },
      "outputs": [
        {
          "output_type": "execute_result",
          "data": {
            "text/plain": [
              "6"
            ]
          },
          "metadata": {},
          "execution_count": 65
        }
      ],
      "source": [
        "len(cadena)"
      ]
    },
    {
      "cell_type": "code",
      "execution_count": null,
      "metadata": {
        "id": "NLrmlnlom3I1",
        "colab": {
          "base_uri": "https://localhost:8080/",
          "height": 35
        },
        "outputId": "b9f3cd1b-cd7b-49e2-88f9-6a77c1c725cc"
      },
      "outputs": [
        {
          "output_type": "execute_result",
          "data": {
            "text/plain": [
              "'P'"
            ],
            "application/vnd.google.colaboratory.intrinsic+json": {
              "type": "string"
            }
          },
          "metadata": {},
          "execution_count": 66
        }
      ],
      "source": [
        "cadena[0]  # primera letra"
      ]
    },
    {
      "cell_type": "code",
      "execution_count": null,
      "metadata": {
        "id": "yIfIqshLnBUO",
        "colab": {
          "base_uri": "https://localhost:8080/",
          "height": 35
        },
        "outputId": "2c1ddb3a-f76e-4cc3-be61-07a1f84543db"
      },
      "outputs": [
        {
          "output_type": "execute_result",
          "data": {
            "text/plain": [
              "'t'"
            ],
            "application/vnd.google.colaboratory.intrinsic+json": {
              "type": "string"
            }
          },
          "metadata": {},
          "execution_count": 67
        }
      ],
      "source": [
        "cadena[2]"
      ]
    },
    {
      "cell_type": "code",
      "source": [
        "cadena[4]"
      ],
      "metadata": {
        "colab": {
          "base_uri": "https://localhost:8080/",
          "height": 35
        },
        "id": "rd0svx4Y84Ta",
        "outputId": "0cb60be8-c4f8-4877-8ca2-f16c1632b083"
      },
      "execution_count": null,
      "outputs": [
        {
          "output_type": "execute_result",
          "data": {
            "text/plain": [
              "'o'"
            ],
            "application/vnd.google.colaboratory.intrinsic+json": {
              "type": "string"
            }
          },
          "metadata": {},
          "execution_count": 68
        }
      ]
    },
    {
      "cell_type": "code",
      "source": [
        "# ultima letra\n",
        "cadena[-1]"
      ],
      "metadata": {
        "colab": {
          "base_uri": "https://localhost:8080/",
          "height": 35
        },
        "id": "956ynFj887T2",
        "outputId": "13ed2737-7caf-4af2-8291-a82ccdccd13a"
      },
      "execution_count": null,
      "outputs": [
        {
          "output_type": "execute_result",
          "data": {
            "text/plain": [
              "'n'"
            ],
            "application/vnd.google.colaboratory.intrinsic+json": {
              "type": "string"
            }
          },
          "metadata": {},
          "execution_count": 69
        }
      ]
    },
    {
      "cell_type": "code",
      "source": [
        "cadena[-2]"
      ],
      "metadata": {
        "colab": {
          "base_uri": "https://localhost:8080/",
          "height": 35
        },
        "id": "TXzQrqtl9Cm2",
        "outputId": "9f3493a8-79e1-44e4-b3b0-8e324dec2ff9"
      },
      "execution_count": null,
      "outputs": [
        {
          "output_type": "execute_result",
          "data": {
            "text/plain": [
              "'o'"
            ],
            "application/vnd.google.colaboratory.intrinsic+json": {
              "type": "string"
            }
          },
          "metadata": {},
          "execution_count": 70
        }
      ]
    },
    {
      "cell_type": "code",
      "execution_count": null,
      "metadata": {
        "id": "rS72q23-na6B"
      },
      "outputs": [],
      "source": [
        "# slicing o rebanado"
      ]
    },
    {
      "cell_type": "code",
      "execution_count": null,
      "metadata": {
        "id": "8rIdaEUOna__",
        "colab": {
          "base_uri": "https://localhost:8080/",
          "height": 35
        },
        "outputId": "b4874332-af03-4c51-bbb9-8b55b12f52c4"
      },
      "outputs": [
        {
          "output_type": "execute_result",
          "data": {
            "text/plain": [
              "'Pyt'"
            ],
            "application/vnd.google.colaboratory.intrinsic+json": {
              "type": "string"
            }
          },
          "metadata": {},
          "execution_count": 71
        }
      ],
      "source": [
        "cadena[0:3]"
      ]
    },
    {
      "cell_type": "code",
      "source": [
        "cadena[0:5]"
      ],
      "metadata": {
        "colab": {
          "base_uri": "https://localhost:8080/",
          "height": 35
        },
        "id": "bwZwUSmX96Hm",
        "outputId": "44383ec7-bf8f-459f-8a05-e567e33983ec"
      },
      "execution_count": null,
      "outputs": [
        {
          "output_type": "execute_result",
          "data": {
            "text/plain": [
              "'Pytho'"
            ],
            "application/vnd.google.colaboratory.intrinsic+json": {
              "type": "string"
            }
          },
          "metadata": {},
          "execution_count": 72
        }
      ]
    },
    {
      "cell_type": "code",
      "source": [
        "cadena[2:5]"
      ],
      "metadata": {
        "colab": {
          "base_uri": "https://localhost:8080/",
          "height": 35
        },
        "id": "oT_ICmWq-5_c",
        "outputId": "fc086ee9-09fe-4a0c-bf39-8635072babcc"
      },
      "execution_count": null,
      "outputs": [
        {
          "output_type": "execute_result",
          "data": {
            "text/plain": [
              "'tho'"
            ],
            "application/vnd.google.colaboratory.intrinsic+json": {
              "type": "string"
            }
          },
          "metadata": {},
          "execution_count": 73
        }
      ]
    },
    {
      "cell_type": "code",
      "source": [],
      "metadata": {
        "id": "y3FFkz5W-6GE"
      },
      "execution_count": null,
      "outputs": []
    },
    {
      "cell_type": "code",
      "source": [],
      "metadata": {
        "id": "3kfdZ17N-6Mq"
      },
      "execution_count": null,
      "outputs": []
    },
    {
      "cell_type": "code",
      "execution_count": null,
      "metadata": {
        "id": "sqnVs-pznqcz"
      },
      "outputs": [],
      "source": [
        "cadena[0:3:1]"
      ]
    },
    {
      "cell_type": "code",
      "execution_count": null,
      "metadata": {
        "id": "RPUE7Nz8nv5Y"
      },
      "outputs": [],
      "source": [
        "cadena[0:6:2]"
      ]
    },
    {
      "cell_type": "code",
      "execution_count": null,
      "metadata": {
        "id": "U3BYngCvsd3v"
      },
      "outputs": [],
      "source": [
        "str(20)"
      ]
    }
  ],
  "metadata": {
    "colab": {
      "provenance": []
    },
    "kernelspec": {
      "display_name": "Python 3 (ipykernel)",
      "language": "python",
      "name": "python3"
    },
    "language_info": {
      "codemirror_mode": {
        "name": "ipython",
        "version": 3
      },
      "file_extension": ".py",
      "mimetype": "text/x-python",
      "name": "python",
      "nbconvert_exporter": "python",
      "pygments_lexer": "ipython3",
      "version": "3.8.8"
    },
    "varInspector": {
      "cols": {
        "lenName": 16,
        "lenType": 16,
        "lenVar": 40
      },
      "kernels_config": {
        "python": {
          "delete_cmd_postfix": "",
          "delete_cmd_prefix": "del ",
          "library": "var_list.py",
          "varRefreshCmd": "print(var_dic_list())"
        },
        "r": {
          "delete_cmd_postfix": ") ",
          "delete_cmd_prefix": "rm(",
          "library": "var_list.r",
          "varRefreshCmd": "cat(var_dic_list()) "
        }
      },
      "types_to_exclude": [
        "module",
        "function",
        "builtin_function_or_method",
        "instance",
        "_Feature"
      ],
      "window_display": false
    }
  },
  "nbformat": 4,
  "nbformat_minor": 0
}