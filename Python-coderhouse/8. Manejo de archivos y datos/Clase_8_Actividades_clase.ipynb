{
  "nbformat": 4,
  "nbformat_minor": 0,
  "metadata": {
    "colab": {
      "provenance": []
    },
    "kernelspec": {
      "name": "python3",
      "display_name": "Python 3"
    },
    "language_info": {
      "name": "python"
    }
  },
  "cells": [
    {
      "cell_type": "code",
      "source": [
        "from google.colab import drive\n",
        "drive.mount('/drive/')"
      ],
      "metadata": {
        "colab": {
          "base_uri": "https://localhost:8080/"
        },
        "id": "HGpKlfp4mSm8",
        "outputId": "7191c7b0-f238-4631-9096-3aa074ac246b"
      },
      "execution_count": null,
      "outputs": [
        {
          "output_type": "stream",
          "name": "stdout",
          "text": [
            "Mounted at /drive/\n"
          ]
        }
      ]
    },
    {
      "cell_type": "code",
      "source": [
        "# Deben usar una ruta de su drive que tenga permiso de escritura\n",
        "ruta = '/drive/MyDrive/python_clase_8/'"
      ],
      "metadata": {
        "id": "6WX2q6UImXXY"
      },
      "execution_count": null,
      "outputs": []
    },
    {
      "cell_type": "code",
      "execution_count": null,
      "metadata": {
        "id": "7q6HdZ-bmMrq"
      },
      "outputs": [],
      "source": [
        "\"\"\"\n",
        "Descripción de la actividad.\n",
        "\n",
        "Crea un programa que pida por teclado (input) los datos de tus tres hobbies favoritos y\n",
        "los mismos se guarden en un archivo que se llame miHobbieFavorito.txt.\n",
        "\n",
        "EXTRA: Hacerlo con un for o un while para no repetir tanto…!!!\n",
        "\"\"\""
      ]
    },
    {
      "cell_type": "code",
      "source": [
        "nombre_archivo = ruta + \"miHobbieFavorito.txt\"\n",
        "archivo = open(nombre_archivo, \"w\")\n",
        "\n",
        "for iteracion in range(1,4):\n",
        "    hobby = input(f\"Hobby favorito #{iteracion}:  \")\n",
        "    archivo.write(f\"{hobby}, \")\n",
        "\n",
        "archivo.close()\n"
      ],
      "metadata": {
        "colab": {
          "base_uri": "https://localhost:8080/"
        },
        "id": "YZ4rxhU6miJI",
        "outputId": "426e1cf8-80c0-441a-8adf-06f685483e9a"
      },
      "execution_count": null,
      "outputs": [
        {
          "name": "stdout",
          "output_type": "stream",
          "text": [
            "Hobby favorito #1bici\n",
            "Hobby favorito #2asado\n",
            "Hobby favorito #3netflix\n"
          ]
        }
      ]
    }
  ]
}