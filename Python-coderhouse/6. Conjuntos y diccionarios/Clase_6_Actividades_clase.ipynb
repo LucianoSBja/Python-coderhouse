{
  "cells": [
    {
      "cell_type": "markdown",
      "id": "58b593f6",
      "metadata": {
        "id": "58b593f6"
      },
      "source": [
        "# Sets"
      ]
    },
    {
      "cell_type": "markdown",
      "id": "18f2effe",
      "metadata": {
        "id": "18f2effe"
      },
      "source": [
        "Crear un conjunto en Python que posea los siguientes elementos:\n",
        "\n",
        "colores: Rojo, Blanco, Azul.\n",
        "\n",
        "* Posteriormente agrega a nuestro set de colores, los valores de: Violeta y Dorado\n",
        "* Elimina a los colores: Celeste, Blanco y Dorado\n",
        "\n",
        "Pregunta:\n",
        "¿Que pasa si queremos eliminar el color Celeste utilizando el método discard?"
      ]
    },
    {
      "cell_type": "code",
      "source": [
        "colores = {\"Rojo\", \"Blanco\", \"Azul\"}"
      ],
      "metadata": {
        "id": "hj8mA6YV0vtH"
      },
      "id": "hj8mA6YV0vtH",
      "execution_count": null,
      "outputs": []
    },
    {
      "cell_type": "code",
      "source": [
        "colores.update([\"Violeta\", \"Dorado\"])"
      ],
      "metadata": {
        "id": "rEdnp8Rg0v0p"
      },
      "id": "rEdnp8Rg0v0p",
      "execution_count": null,
      "outputs": []
    },
    {
      "cell_type": "code",
      "source": [
        "colores"
      ],
      "metadata": {
        "colab": {
          "base_uri": "https://localhost:8080/"
        },
        "id": "P04LHDR70v7k",
        "outputId": "4b2d070e-eabe-49c7-8044-19b25cfe45a7"
      },
      "id": "P04LHDR70v7k",
      "execution_count": null,
      "outputs": [
        {
          "output_type": "execute_result",
          "data": {
            "text/plain": [
              "{'Azul', 'Blanco', 'Dorado', 'Rojo', 'Violeta'}"
            ]
          },
          "metadata": {},
          "execution_count": 3
        }
      ]
    },
    {
      "cell_type": "code",
      "source": [
        "colores.discard(\"Celeste\")"
      ],
      "metadata": {
        "id": "MNKuX9xpnV6d"
      },
      "id": "MNKuX9xpnV6d",
      "execution_count": null,
      "outputs": []
    },
    {
      "cell_type": "code",
      "source": [
        "colores.discard(\"Blanco\")"
      ],
      "metadata": {
        "id": "zWwFfDgu0wJb"
      },
      "id": "zWwFfDgu0wJb",
      "execution_count": null,
      "outputs": []
    },
    {
      "cell_type": "code",
      "source": [
        "colores.discard(\"Dorado\")"
      ],
      "metadata": {
        "id": "_m__NkJvFEMX"
      },
      "id": "_m__NkJvFEMX",
      "execution_count": null,
      "outputs": []
    },
    {
      "cell_type": "code",
      "source": [
        "colores"
      ],
      "metadata": {
        "colab": {
          "base_uri": "https://localhost:8080/"
        },
        "id": "kg9CL0zyFES9",
        "outputId": "924dbde9-3ceb-45da-fd53-3b560bcc1273"
      },
      "id": "kg9CL0zyFES9",
      "execution_count": null,
      "outputs": [
        {
          "output_type": "execute_result",
          "data": {
            "text/plain": [
              "{'Azul', 'Rojo', 'Violeta'}"
            ]
          },
          "metadata": {},
          "execution_count": 7
        }
      ]
    },
    {
      "cell_type": "code",
      "source": [
        "colores.remove(\"Celeste\")"
      ],
      "metadata": {
        "colab": {
          "base_uri": "https://localhost:8080/",
          "height": 176
        },
        "id": "p-Q1Vv_mnZam",
        "outputId": "b932c242-8d20-479c-d2de-331e6bb6aae1"
      },
      "id": "p-Q1Vv_mnZam",
      "execution_count": null,
      "outputs": [
        {
          "output_type": "error",
          "ename": "KeyError",
          "evalue": "ignored",
          "traceback": [
            "\u001b[0;31m---------------------------------------------------------------------------\u001b[0m",
            "\u001b[0;31mKeyError\u001b[0m                                  Traceback (most recent call last)",
            "\u001b[0;32m<ipython-input-8-ba6b90a022ab>\u001b[0m in \u001b[0;36m<cell line: 1>\u001b[0;34m()\u001b[0m\n\u001b[0;32m----> 1\u001b[0;31m \u001b[0mcolores\u001b[0m\u001b[0;34m.\u001b[0m\u001b[0mremove\u001b[0m\u001b[0;34m(\u001b[0m\u001b[0;34m\"Celeste\"\u001b[0m\u001b[0;34m)\u001b[0m\u001b[0;34m\u001b[0m\u001b[0;34m\u001b[0m\u001b[0m\n\u001b[0m",
            "\u001b[0;31mKeyError\u001b[0m: 'Celeste'"
          ]
        }
      ]
    },
    {
      "cell_type": "code",
      "source": [
        "conjunto = {\"rojo\", \"azul\"}"
      ],
      "metadata": {
        "id": "4Rk_W3vXnws-"
      },
      "id": "4Rk_W3vXnws-",
      "execution_count": null,
      "outputs": []
    },
    {
      "cell_type": "code",
      "source": [
        "conjunto.update(\"amarillo\")"
      ],
      "metadata": {
        "id": "06HcZ9FAn0yu"
      },
      "id": "06HcZ9FAn0yu",
      "execution_count": null,
      "outputs": []
    },
    {
      "cell_type": "code",
      "source": [
        "conjunto"
      ],
      "metadata": {
        "colab": {
          "base_uri": "https://localhost:8080/"
        },
        "id": "2cooq6zEn6Rc",
        "outputId": "3ad7b806-2bfe-4295-a777-61e62e5fc544"
      },
      "id": "2cooq6zEn6Rc",
      "execution_count": null,
      "outputs": [
        {
          "output_type": "execute_result",
          "data": {
            "text/plain": [
              "{'a', 'azul', 'i', 'l', 'm', 'o', 'r', 'rojo'}"
            ]
          },
          "metadata": {},
          "execution_count": 11
        }
      ]
    },
    {
      "cell_type": "code",
      "source": [
        "conjunto.update([\"amarillo\"])"
      ],
      "metadata": {
        "id": "pbZl4S5boJUO"
      },
      "id": "pbZl4S5boJUO",
      "execution_count": null,
      "outputs": []
    },
    {
      "cell_type": "code",
      "source": [
        "conjunto"
      ],
      "metadata": {
        "colab": {
          "base_uri": "https://localhost:8080/"
        },
        "id": "49-wKJfioMzs",
        "outputId": "9acc33e6-fdad-48dd-fc9b-54029b626b80"
      },
      "id": "49-wKJfioMzs",
      "execution_count": null,
      "outputs": [
        {
          "output_type": "execute_result",
          "data": {
            "text/plain": [
              "{'a', 'amarillo', 'azul', 'i', 'l', 'm', 'o', 'r', 'rojo'}"
            ]
          },
          "metadata": {},
          "execution_count": 13
        }
      ]
    },
    {
      "cell_type": "code",
      "execution_count": null,
      "id": "d32af1bd",
      "metadata": {
        "id": "d32af1bd"
      },
      "outputs": [],
      "source": [
        "colores = {\"Rojo\", \"Blanco\", \"Azul\"}\n",
        "print(colores)"
      ]
    },
    {
      "cell_type": "code",
      "execution_count": null,
      "id": "4b66036b",
      "metadata": {
        "id": "4b66036b"
      },
      "outputs": [],
      "source": [
        "# colores.update(['Violeta', 'Dorado']) # otra opcion\n",
        "colores.add(\"Violeta\")\n",
        "colores.add(\"Dorado\")\n",
        "print(colores)"
      ]
    },
    {
      "cell_type": "code",
      "execution_count": null,
      "id": "8ccad08d",
      "metadata": {
        "id": "8ccad08d"
      },
      "outputs": [],
      "source": [
        "colores.discard(\"Celeste\")\n",
        "colores.discard(\"Blanco\")\n",
        "colores.discard(\"Dorado\")\n",
        "print(colores)\n",
        "\n",
        "#El elemento Celeste no existe pero al utilizar el metodo de discard no obtenemos ningun error asociado"
      ]
    },
    {
      "cell_type": "code",
      "source": [
        "colores.remove(\"Celeste\")"
      ],
      "metadata": {
        "id": "PRSRiciwlgMZ"
      },
      "id": "PRSRiciwlgMZ",
      "execution_count": null,
      "outputs": []
    },
    {
      "cell_type": "markdown",
      "id": "1d69848d",
      "metadata": {
        "id": "1d69848d"
      },
      "source": [
        "**Practica Complementaria - Sets**\n",
        "\n",
        "Crear un conjunto en Python que posea los siguientes elementos:\n",
        "\n",
        "Países: Inglaterra, USA, Mexico.\n",
        "\n",
        "* Posteriormente agrega nuestro set de países, los elementos de: Islandia, Italia, Argentina y Portugal.\n",
        "\n",
        "* Elimina a los países: Chile e Italia\n",
        "\n",
        "Pregunta:\n",
        "¿Que pasa si queremos eliminar al pais Chile utilizando el método remove?\n"
      ]
    },
    {
      "cell_type": "code",
      "source": [],
      "metadata": {
        "id": "w7iwvZSR0xhc"
      },
      "id": "w7iwvZSR0xhc",
      "execution_count": null,
      "outputs": []
    },
    {
      "cell_type": "code",
      "source": [],
      "metadata": {
        "id": "5KfdPu6i0xoD"
      },
      "id": "5KfdPu6i0xoD",
      "execution_count": null,
      "outputs": []
    },
    {
      "cell_type": "code",
      "source": [],
      "metadata": {
        "id": "ZzTUtvPX0xuq"
      },
      "id": "ZzTUtvPX0xuq",
      "execution_count": null,
      "outputs": []
    },
    {
      "cell_type": "code",
      "source": [],
      "metadata": {
        "id": "gU7g0S0T0x08"
      },
      "id": "gU7g0S0T0x08",
      "execution_count": null,
      "outputs": []
    },
    {
      "cell_type": "code",
      "source": [],
      "metadata": {
        "id": "70k9y_lZ0x7R"
      },
      "id": "70k9y_lZ0x7R",
      "execution_count": null,
      "outputs": []
    },
    {
      "cell_type": "code",
      "execution_count": null,
      "id": "c2980b5e",
      "metadata": {
        "id": "c2980b5e",
        "colab": {
          "base_uri": "https://localhost:8080/"
        },
        "outputId": "889f0e0a-461a-4022-d7ce-9d34b67c17c1"
      },
      "outputs": [
        {
          "output_type": "stream",
          "name": "stdout",
          "text": [
            "{'Mexico', 'Inglaterra', 'USA'}\n"
          ]
        }
      ],
      "source": [
        "Paises = {\"Inglaterra\", \"USA\", \"Mexico\"}\n",
        "print(Paises)"
      ]
    },
    {
      "cell_type": "code",
      "execution_count": null,
      "id": "558de342",
      "metadata": {
        "id": "558de342",
        "colab": {
          "base_uri": "https://localhost:8080/"
        },
        "outputId": "59f6d8c4-bad7-4851-e9bd-d5c687142fb4"
      },
      "outputs": [
        {
          "output_type": "stream",
          "name": "stdout",
          "text": [
            "{'Portugal', 'USA', 'Argentina', 'Islandia', 'Mexico', 'Italia', 'Inglaterra'}\n"
          ]
        }
      ],
      "source": [
        "Paises.add(\"Islandia\")\n",
        "Paises.add(\"Italia\")\n",
        "Paises.add(\"Argentina\")\n",
        "Paises.add(\"Portugal\")\n",
        "Paises.add(\"USA\")\n",
        "print(Paises)"
      ]
    },
    {
      "cell_type": "code",
      "execution_count": null,
      "id": "83436200",
      "metadata": {
        "id": "83436200",
        "colab": {
          "base_uri": "https://localhost:8080/",
          "height": 176
        },
        "outputId": "8a46c493-02d2-41c0-89aa-a746a63ec617"
      },
      "outputs": [
        {
          "output_type": "error",
          "ename": "KeyError",
          "evalue": "ignored",
          "traceback": [
            "\u001b[0;31m---------------------------------------------------------------------------\u001b[0m",
            "\u001b[0;31mKeyError\u001b[0m                                  Traceback (most recent call last)",
            "\u001b[0;32m<ipython-input-16-abe7f30e4b06>\u001b[0m in \u001b[0;36m<cell line: 1>\u001b[0;34m()\u001b[0m\n\u001b[0;32m----> 1\u001b[0;31m \u001b[0mPaises\u001b[0m\u001b[0;34m.\u001b[0m\u001b[0mremove\u001b[0m\u001b[0;34m(\u001b[0m\u001b[0;34m\"Chile\"\u001b[0m\u001b[0;34m)\u001b[0m\u001b[0;34m\u001b[0m\u001b[0;34m\u001b[0m\u001b[0m\n\u001b[0m",
            "\u001b[0;31mKeyError\u001b[0m: 'Chile'"
          ]
        }
      ],
      "source": [
        "Paises.remove(\"Chile\")"
      ]
    },
    {
      "cell_type": "code",
      "execution_count": null,
      "id": "3b152bb9",
      "metadata": {
        "id": "3b152bb9"
      },
      "outputs": [],
      "source": [
        "Paises.remove(\"Argentina\")"
      ]
    },
    {
      "cell_type": "code",
      "source": [
        "print(Paises)"
      ],
      "metadata": {
        "colab": {
          "base_uri": "https://localhost:8080/"
        },
        "id": "Zkbi8mHQyq5p",
        "outputId": "db2dc399-b9cf-434e-9ec2-980f7bd5c203"
      },
      "id": "Zkbi8mHQyq5p",
      "execution_count": null,
      "outputs": [
        {
          "output_type": "stream",
          "name": "stdout",
          "text": [
            "{'Portugal', 'USA', 'Islandia', 'Mexico', 'Italia', 'Inglaterra'}\n"
          ]
        }
      ]
    },
    {
      "cell_type": "code",
      "execution_count": null,
      "id": "e63eaada",
      "metadata": {
        "id": "e63eaada"
      },
      "outputs": [],
      "source": [
        "#El elemento USA al ya existir no se volvio a eliminar. Finalmente la opcion de remove nos arroja error porque\n",
        "#el pais de Chile no existe"
      ]
    },
    {
      "cell_type": "markdown",
      "id": "7b9d5b58",
      "metadata": {
        "id": "7b9d5b58"
      },
      "source": [
        "# Diccionarios"
      ]
    },
    {
      "cell_type": "markdown",
      "id": "e095b6cd",
      "metadata": {
        "id": "e095b6cd"
      },
      "source": [
        "Consigna:\n",
        "    \n",
        "Crear un diccionario que almacene a los ganadores de la Copa Mundial de la FIFA desde el año 1990 al 2022.\n",
        "\n",
        "* 1990: 'Alemania',\n",
        "* 1994: 'Brasil',\n",
        "* 1998: 'Francia',\n",
        "* 2002: 'Brasil',\n",
        "* 2006: 'Italia',\n",
        "* 2010: 'España',\n",
        "* 2014: 'Alemania'\n",
        "* 2018: 'Francia'\n",
        "* 2022: 'Argentina'\n"
      ]
    },
    {
      "cell_type": "code",
      "source": [
        "campeones = {\n",
        "    1990: \"Alemania\",\n",
        "    1994: \"Brazil\",\n",
        "    1998: \"Francia\",\n",
        "    2002: \"Brazil\",\n",
        "    2006: \"Italia\",\n",
        "    2010: \"España\",\n",
        "    2014: \"Alemania\",\n",
        "    2018: \"Francia\",\n",
        "    2022: \"Argentina\",\n",
        "}"
      ],
      "metadata": {
        "id": "FZXvbnBqPSuO"
      },
      "id": "FZXvbnBqPSuO",
      "execution_count": null,
      "outputs": []
    },
    {
      "cell_type": "code",
      "source": [
        "campeones[2022]"
      ],
      "metadata": {
        "colab": {
          "base_uri": "https://localhost:8080/",
          "height": 36
        },
        "id": "lHUhYuZaPXcB",
        "outputId": "32089174-34af-4c40-b627-d87fe96ccf0f"
      },
      "id": "lHUhYuZaPXcB",
      "execution_count": null,
      "outputs": [
        {
          "output_type": "execute_result",
          "data": {
            "text/plain": [
              "'Argentina'"
            ],
            "application/vnd.google.colaboratory.intrinsic+json": {
              "type": "string"
            }
          },
          "metadata": {},
          "execution_count": 20
        }
      ]
    },
    {
      "cell_type": "code",
      "source": [
        "campeones[1998]"
      ],
      "metadata": {
        "colab": {
          "base_uri": "https://localhost:8080/",
          "height": 36
        },
        "id": "sEBcRnDjPXp4",
        "outputId": "a3bd37ec-b8b5-4388-cb75-826dd02cb112"
      },
      "id": "sEBcRnDjPXp4",
      "execution_count": null,
      "outputs": [
        {
          "output_type": "execute_result",
          "data": {
            "text/plain": [
              "'Francia'"
            ],
            "application/vnd.google.colaboratory.intrinsic+json": {
              "type": "string"
            }
          },
          "metadata": {},
          "execution_count": 21
        }
      ]
    },
    {
      "cell_type": "code",
      "source": [],
      "metadata": {
        "id": "zv59sZ5WPS0i"
      },
      "id": "zv59sZ5WPS0i",
      "execution_count": null,
      "outputs": []
    },
    {
      "cell_type": "code",
      "source": [
        "ganadores_1930_1966 = {\n",
        "    1930: \"Uruguay\",\n",
        "    1934: \"Italia\",\n",
        "    1938: \"Italia\",\n",
        "    1950: \"Uruguay\",\n",
        "    1954: \"Alemania\",\n",
        "    1958: \"Brazil\",\n",
        "    1962: \"Brazil\",\n",
        "    1966: \"Inglaterra\"\n",
        "}"
      ],
      "metadata": {
        "id": "hJt7db_Sxvt4"
      },
      "id": "hJt7db_Sxvt4",
      "execution_count": null,
      "outputs": []
    },
    {
      "cell_type": "code",
      "source": [
        "campeones.update(ganadores_1930_1966)"
      ],
      "metadata": {
        "id": "wiXvud8pycVQ"
      },
      "id": "wiXvud8pycVQ",
      "execution_count": null,
      "outputs": []
    },
    {
      "cell_type": "code",
      "source": [
        "campeones"
      ],
      "metadata": {
        "id": "ghJ6gJlQyhJD",
        "colab": {
          "base_uri": "https://localhost:8080/"
        },
        "outputId": "00c1e078-b3ff-44ff-fa35-1e9f7feb157e"
      },
      "id": "ghJ6gJlQyhJD",
      "execution_count": null,
      "outputs": [
        {
          "output_type": "execute_result",
          "data": {
            "text/plain": [
              "{1990: 'Alemania',\n",
              " 1994: 'Brazil',\n",
              " 1998: 'Francia',\n",
              " 2002: 'Brazil',\n",
              " 2006: 'Italia',\n",
              " 2010: 'España',\n",
              " 2014: 'Alemania',\n",
              " 2018: 'Francia',\n",
              " 2022: 'Argentina',\n",
              " 1930: 'Uruguay',\n",
              " 1934: 'Italia',\n",
              " 1938: 'Italia',\n",
              " 1950: 'Uruguay',\n",
              " 1954: 'Alemania',\n",
              " 1958: 'Brazil',\n",
              " 1962: 'Brazil',\n",
              " 1966: 'Inglaterra'}"
            ]
          },
          "metadata": {},
          "execution_count": 24
        }
      ]
    },
    {
      "cell_type": "markdown",
      "id": "58a047ed",
      "metadata": {
        "id": "58a047ed"
      },
      "source": [
        "**Practica complementaria Diccionarios **\n",
        "\n",
        "Escribir un programa que le solicite al usuario su nombre, edad, dirección y que posteriormente lo muestre por pantalla:\n",
        "\n",
        "Ejemplo del output solicitado:\n",
        "* Juan tiene 25 años, y vive en Carrera 7 - Bogotá"
      ]
    },
    {
      "cell_type": "code",
      "execution_count": null,
      "id": "1896834d",
      "metadata": {
        "id": "1896834d"
      },
      "outputs": [],
      "source": [
        "nombre = input('¿Cómo te llamas? ')\n",
        "edad = input('¿Cuántos años tienes? ')\n",
        "direccion = input('¿Cuál es tu dirección? ')\n",
        "usuario = {'nombre': nombre, 'edad': edad, 'direccion': direccion}\n",
        "print(usuario['nombre'], 'tiene', usuario['edad'], 'años, y vive en', usuario['direccion'])"
      ]
    },
    {
      "cell_type": "code",
      "source": [
        "# Actividad complementaria de conjuntos (sets)\n",
        "practican_futbol = {'Juan', 'Lucia', 'Ana', 'Paco'}\n",
        "practican_beisbol = {'Camila', 'Juan', 'Ana'}\n",
        "practican_tenis = {'Paco', 'Carlitos'}"
      ],
      "metadata": {
        "id": "9W3w2bafzAVy"
      },
      "id": "9W3w2bafzAVy",
      "execution_count": null,
      "outputs": []
    },
    {
      "cell_type": "code",
      "source": [
        "practican_futbol.intersection(practican_beisbol)"
      ],
      "metadata": {
        "id": "HV-QAl4TzhRd"
      },
      "id": "HV-QAl4TzhRd",
      "execution_count": null,
      "outputs": []
    },
    {
      "cell_type": "code",
      "source": [
        "practican_futbol.intersection(practican_tenis)"
      ],
      "metadata": {
        "id": "nbpLWr-6zwsz"
      },
      "id": "nbpLWr-6zwsz",
      "execution_count": null,
      "outputs": []
    }
  ],
  "metadata": {
    "kernelspec": {
      "display_name": "Python 3 (ipykernel)",
      "language": "python",
      "name": "python3"
    },
    "language_info": {
      "codemirror_mode": {
        "name": "ipython",
        "version": 3
      },
      "file_extension": ".py",
      "mimetype": "text/x-python",
      "name": "python",
      "nbconvert_exporter": "python",
      "pygments_lexer": "ipython3",
      "version": "3.8.8"
    },
    "varInspector": {
      "cols": {
        "lenName": 16,
        "lenType": 16,
        "lenVar": 40
      },
      "kernels_config": {
        "python": {
          "delete_cmd_postfix": "",
          "delete_cmd_prefix": "del ",
          "library": "var_list.py",
          "varRefreshCmd": "print(var_dic_list())"
        },
        "r": {
          "delete_cmd_postfix": ") ",
          "delete_cmd_prefix": "rm(",
          "library": "var_list.r",
          "varRefreshCmd": "cat(var_dic_list()) "
        }
      },
      "types_to_exclude": [
        "module",
        "function",
        "builtin_function_or_method",
        "instance",
        "_Feature"
      ],
      "window_display": false
    },
    "colab": {
      "provenance": []
    }
  },
  "nbformat": 4,
  "nbformat_minor": 5
}