{
  "nbformat": 4,
  "nbformat_minor": 0,
  "metadata": {
    "colab": {
      "provenance": []
    },
    "kernelspec": {
      "name": "python3",
      "display_name": "Python 3"
    },
    "language_info": {
      "name": "python"
    }
  },
  "cells": [
    {
      "cell_type": "markdown",
      "metadata": {
        "id": "lTsCQCKUOHDd"
      },
      "source": [
        "# Repaso importante de la clase anterior"
      ]
    },
    {
      "cell_type": "code",
      "metadata": {
        "id": "juNlJxbvGpBy"
      },
      "source": [
        "#Listas\n",
        "\n",
        "numeros = [34.5 , 28.6 , 55.1]"
      ],
      "execution_count": null,
      "outputs": []
    },
    {
      "cell_type": "code",
      "metadata": {
        "id": "Eh6m-OvgHC16"
      },
      "source": [
        "numeros[-1]"
      ],
      "execution_count": null,
      "outputs": []
    },
    {
      "cell_type": "code",
      "metadata": {
        "id": "ugkqT6-AHIeC"
      },
      "source": [
        "promedio_lista = sum(numeros) / len(numeros)"
      ],
      "execution_count": null,
      "outputs": []
    },
    {
      "cell_type": "code",
      "metadata": {
        "id": "lUB2wiFCHrmD"
      },
      "source": [
        "promedio_lista"
      ],
      "execution_count": null,
      "outputs": []
    },
    {
      "cell_type": "code",
      "source": [
        "sum(numeros)"
      ],
      "metadata": {
        "id": "lKW5UBUTpmKI"
      },
      "execution_count": null,
      "outputs": []
    },
    {
      "cell_type": "code",
      "source": [
        "nombres = [\"Nico\", \"Ana\", \"Juan\"]"
      ],
      "metadata": {
        "id": "KTac5IzVpq2H"
      },
      "execution_count": null,
      "outputs": []
    },
    {
      "cell_type": "code",
      "source": [
        "nombres[0] = \"Pedro\""
      ],
      "metadata": {
        "id": "JT-8wAjNpxgr"
      },
      "execution_count": null,
      "outputs": []
    },
    {
      "cell_type": "code",
      "source": [
        "nombres"
      ],
      "metadata": {
        "id": "3YGoGGo0p6NR"
      },
      "execution_count": null,
      "outputs": []
    },
    {
      "cell_type": "code",
      "source": [
        "nombres[2]"
      ],
      "metadata": {
        "id": "QFQ__CqDqLRO"
      },
      "execution_count": null,
      "outputs": []
    },
    {
      "cell_type": "code",
      "source": [
        "nombres[-1]"
      ],
      "metadata": {
        "id": "1wsYwMgAqNaS"
      },
      "execution_count": null,
      "outputs": []
    },
    {
      "cell_type": "markdown",
      "source": [
        "# Operadores relacionales"
      ],
      "metadata": {
        "id": "OBybqwIFLEVw"
      }
    },
    {
      "cell_type": "markdown",
      "metadata": {
        "id": "SUxlDU7EONRK"
      },
      "source": [
        "# Operaciones lógicas"
      ]
    },
    {
      "cell_type": "code",
      "metadata": {
        "id": "VIDvAp9aJ8K4",
        "colab": {
          "base_uri": "https://localhost:8080/"
        },
        "outputId": "240b245f-1720-4d24-d166-591dc14232b2"
      },
      "source": [
        "1 + 3 == 8 - 4"
      ],
      "execution_count": null,
      "outputs": [
        {
          "output_type": "execute_result",
          "data": {
            "text/plain": [
              "True"
            ]
          },
          "metadata": {},
          "execution_count": 15
        }
      ]
    },
    {
      "cell_type": "code",
      "metadata": {
        "id": "92ZdrAnVMyBa",
        "colab": {
          "base_uri": "https://localhost:8080/"
        },
        "outputId": "4864bc7b-ab5a-422c-baf0-61354af7b5c1"
      },
      "source": [
        "5 != 3"
      ],
      "execution_count": null,
      "outputs": [
        {
          "output_type": "execute_result",
          "data": {
            "text/plain": [
              "True"
            ]
          },
          "metadata": {},
          "execution_count": 14
        }
      ]
    },
    {
      "cell_type": "code",
      "metadata": {
        "colab": {
          "base_uri": "https://localhost:8080/"
        },
        "id": "QX3PNLOkM39O",
        "outputId": "81e9c13d-5803-4ae2-c9eb-0b6a4d920ae4"
      },
      "source": [
        "32 < 19   # es Menor que???"
      ],
      "execution_count": null,
      "outputs": [
        {
          "output_type": "execute_result",
          "data": {
            "text/plain": [
              "False"
            ]
          },
          "metadata": {},
          "execution_count": 16
        }
      ]
    },
    {
      "cell_type": "code",
      "metadata": {
        "colab": {
          "base_uri": "https://localhost:8080/"
        },
        "id": "-SEKoZPJNCQ1",
        "outputId": "9e785381-245d-4327-c816-2a18bbbb8a59"
      },
      "source": [
        "45 > 11   #Mayor???"
      ],
      "execution_count": null,
      "outputs": [
        {
          "output_type": "execute_result",
          "data": {
            "text/plain": [
              "True"
            ]
          },
          "metadata": {},
          "execution_count": 17
        }
      ]
    },
    {
      "cell_type": "code",
      "metadata": {
        "colab": {
          "base_uri": "https://localhost:8080/"
        },
        "id": "GrurZpLWNXHF",
        "outputId": "df6debfb-d2b2-4452-f488-928c425eb1f7"
      },
      "source": [
        "-32.366 <= -90"
      ],
      "execution_count": null,
      "outputs": [
        {
          "output_type": "execute_result",
          "data": {
            "text/plain": [
              "False"
            ]
          },
          "metadata": {},
          "execution_count": 18
        }
      ]
    },
    {
      "cell_type": "code",
      "metadata": {
        "colab": {
          "base_uri": "https://localhost:8080/"
        },
        "id": "lhZ_fqHJNiIU",
        "outputId": "615854f6-332b-40ae-ea7f-f2dbfe7d0d4a"
      },
      "source": [
        "44 <= 44"
      ],
      "execution_count": null,
      "outputs": [
        {
          "output_type": "execute_result",
          "data": {
            "text/plain": [
              "True"
            ]
          },
          "metadata": {},
          "execution_count": 19
        }
      ]
    },
    {
      "cell_type": "code",
      "metadata": {
        "id": "mCJLAX6KN1p1",
        "colab": {
          "base_uri": "https://localhost:8080/"
        },
        "outputId": "56fb2203-a4c3-46b1-f5f4-4e22d197033e"
      },
      "source": [
        "101 >= 200"
      ],
      "execution_count": null,
      "outputs": [
        {
          "output_type": "execute_result",
          "data": {
            "text/plain": [
              "False"
            ]
          },
          "metadata": {},
          "execution_count": 20
        }
      ]
    },
    {
      "cell_type": "code",
      "metadata": {
        "colab": {
          "base_uri": "https://localhost:8080/"
        },
        "id": "fTMoHliMOYsJ",
        "outputId": "f303e662-3e37-4e3a-9934-9ec7e075aaa1"
      },
      "source": [
        "\"Nico\" == \"Nico\""
      ],
      "execution_count": null,
      "outputs": [
        {
          "output_type": "execute_result",
          "data": {
            "text/plain": [
              "True"
            ]
          },
          "metadata": {},
          "execution_count": 22
        }
      ]
    },
    {
      "cell_type": "code",
      "source": [
        "\"B\" > \"A\""
      ],
      "metadata": {
        "colab": {
          "base_uri": "https://localhost:8080/"
        },
        "id": "LgakXznHJU2L",
        "outputId": "6a7f3507-45cb-4234-969b-0957374f778f"
      },
      "execution_count": null,
      "outputs": [
        {
          "output_type": "execute_result",
          "data": {
            "text/plain": [
              "True"
            ]
          },
          "metadata": {},
          "execution_count": 23
        }
      ]
    },
    {
      "cell_type": "code",
      "source": [
        "\"a\" > \"A\""
      ],
      "metadata": {
        "colab": {
          "base_uri": "https://localhost:8080/"
        },
        "id": "MClYqcQdJdn4",
        "outputId": "3c14b860-c302-460d-e632-ec9967adb347"
      },
      "execution_count": null,
      "outputs": [
        {
          "output_type": "execute_result",
          "data": {
            "text/plain": [
              "True"
            ]
          },
          "metadata": {},
          "execution_count": 24
        }
      ]
    },
    {
      "cell_type": "code",
      "metadata": {
        "colab": {
          "base_uri": "https://localhost:8080/"
        },
        "id": "3RGPBh-AOizM",
        "outputId": "ba9e5cd4-035b-4253-e7b0-2f3db55bea43"
      },
      "source": [
        "\"Nico\" >= \"Brenda\""
      ],
      "execution_count": null,
      "outputs": [
        {
          "output_type": "execute_result",
          "data": {
            "text/plain": [
              "True"
            ]
          },
          "metadata": {},
          "execution_count": 25
        }
      ]
    },
    {
      "cell_type": "code",
      "metadata": {
        "colab": {
          "base_uri": "https://localhost:8080/"
        },
        "id": "HdR2KNFhOxzc",
        "outputId": "1426d73f-3ac3-46c3-a98b-1ad4044f9a57"
      },
      "source": [
        "\"Nico\" != \"Nitro\""
      ],
      "execution_count": null,
      "outputs": [
        {
          "output_type": "execute_result",
          "data": {
            "text/plain": [
              "True"
            ]
          },
          "metadata": {},
          "execution_count": 26
        }
      ]
    },
    {
      "cell_type": "code",
      "source": [
        "\"Nico\" < \"Nitro\""
      ],
      "metadata": {
        "colab": {
          "base_uri": "https://localhost:8080/"
        },
        "id": "jkXgvsUoNixC",
        "outputId": "bf182d6c-d585-4606-8926-925442352283"
      },
      "execution_count": null,
      "outputs": [
        {
          "output_type": "execute_result",
          "data": {
            "text/plain": [
              "True"
            ]
          },
          "metadata": {},
          "execution_count": 27
        }
      ]
    },
    {
      "cell_type": "code",
      "source": [
        "\"pedro\" > \"Pedro\""
      ],
      "metadata": {
        "colab": {
          "base_uri": "https://localhost:8080/"
        },
        "id": "F699F9glKAuv",
        "outputId": "3d8799c7-7737-40d7-8682-97217e3500bb"
      },
      "execution_count": null,
      "outputs": [
        {
          "output_type": "execute_result",
          "data": {
            "text/plain": [
              "True"
            ]
          },
          "metadata": {},
          "execution_count": 28
        }
      ]
    },
    {
      "cell_type": "code",
      "source": [
        "\"Nicooo\" < \"Nitro\""
      ],
      "metadata": {
        "colab": {
          "base_uri": "https://localhost:8080/"
        },
        "id": "-2Zy9gvwyjdf",
        "outputId": "a15f1074-8311-428d-d618-9f65f616b4f5"
      },
      "execution_count": null,
      "outputs": [
        {
          "output_type": "execute_result",
          "data": {
            "text/plain": [
              "True"
            ]
          },
          "metadata": {},
          "execution_count": 31
        }
      ]
    },
    {
      "cell_type": "code",
      "metadata": {
        "id": "u_O0kM3NO8no"
      },
      "source": [
        "nombre = \"Pedro Rojas\"\n",
        "nombre2 = \"Brenda\"\n",
        "nombre3 = \"Pepito\""
      ],
      "execution_count": null,
      "outputs": []
    },
    {
      "cell_type": "code",
      "metadata": {
        "id": "AdnSxzOwPA6E"
      },
      "source": [
        "nombre[-2] != \"R\""
      ],
      "execution_count": null,
      "outputs": []
    },
    {
      "cell_type": "code",
      "metadata": {
        "id": "IFXN7WcdPqJD"
      },
      "source": [
        "nombre2 < nombre3"
      ],
      "execution_count": null,
      "outputs": []
    },
    {
      "cell_type": "code",
      "metadata": {
        "id": "hs_zUZ3vQNGr"
      },
      "source": [
        "#TRUE : 1    -------------- False : 0\n",
        "(len(nombre) < 15) == False"
      ],
      "execution_count": null,
      "outputs": []
    },
    {
      "cell_type": "code",
      "source": [
        "True > False"
      ],
      "metadata": {
        "id": "OY-n2zwtKOyz"
      },
      "execution_count": null,
      "outputs": []
    },
    {
      "cell_type": "code",
      "source": [
        "True*25"
      ],
      "metadata": {
        "id": "bFNhB32nKRQA"
      },
      "execution_count": null,
      "outputs": []
    },
    {
      "cell_type": "code",
      "source": [
        "25*True"
      ],
      "metadata": {
        "id": "oSeSORdfKTzr"
      },
      "execution_count": null,
      "outputs": []
    },
    {
      "cell_type": "code",
      "source": [
        "False/20"
      ],
      "metadata": {
        "id": "QnJjBJ88KWNl"
      },
      "execution_count": null,
      "outputs": []
    },
    {
      "cell_type": "markdown",
      "metadata": {
        "id": "TKOVsu-iOVgN"
      },
      "source": [
        "# Listas y operaciones lógicas"
      ]
    },
    {
      "cell_type": "code",
      "metadata": {
        "id": "IQ5xoRCbST9c"
      },
      "source": [
        "lista_nueva = [3+1-11 , 20/6  ,   11-8]"
      ],
      "execution_count": null,
      "outputs": []
    },
    {
      "cell_type": "code",
      "metadata": {
        "id": "4C3MUJ7USgfT"
      },
      "source": [
        "lista_nueva"
      ],
      "execution_count": null,
      "outputs": []
    },
    {
      "cell_type": "code",
      "metadata": {
        "id": "Q-_ygVZqSyoD"
      },
      "source": [
        "expresiones = [False == True, 10 >= 2*4, 33/3 == 11, True > False, True*5 == 2.5*2]\n",
        "#                  False          True       True         True          True\n"
      ],
      "execution_count": null,
      "outputs": []
    },
    {
      "cell_type": "code",
      "metadata": {
        "id": "lO8PVTGCTLhd"
      },
      "source": [
        "variable1 = expresiones[0]"
      ],
      "execution_count": null,
      "outputs": []
    },
    {
      "cell_type": "code",
      "metadata": {
        "id": "H0CTHqKCTbRk"
      },
      "source": [
        "variable1"
      ],
      "execution_count": null,
      "outputs": []
    },
    {
      "cell_type": "markdown",
      "metadata": {
        "id": "EhHrLkRrOhXt"
      },
      "source": [
        "# Ejercicios de tabla de verdad"
      ]
    },
    {
      "cell_type": "code",
      "metadata": {
        "id": "ESfiV_GwTgq8"
      },
      "source": [
        "edad_nadia = 27\n",
        "edad_nico = 32\n",
        "edad_luis = 17"
      ],
      "execution_count": null,
      "outputs": []
    },
    {
      "cell_type": "code",
      "metadata": {
        "id": "LSn7VVPYTsM6",
        "colab": {
          "base_uri": "https://localhost:8080/"
        },
        "outputId": "2cf37b76-47d6-466b-8761-354bb29a7b25"
      },
      "source": [
        "# True and True\n",
        "edad_nadia >= 18   and    edad_nico >= 18"
      ],
      "execution_count": null,
      "outputs": [
        {
          "output_type": "execute_result",
          "data": {
            "text/plain": [
              "True"
            ]
          },
          "metadata": {},
          "execution_count": 33
        }
      ]
    },
    {
      "cell_type": "code",
      "metadata": {
        "id": "k8IfSC91Uy1k",
        "colab": {
          "base_uri": "https://localhost:8080/"
        },
        "outputId": "e08e1fc7-2ba5-4a45-c05c-c5b252fe11e4"
      },
      "source": [
        "# True or False\n",
        "edad_nadia >= 18  or   edad_luis >= 18"
      ],
      "execution_count": null,
      "outputs": [
        {
          "output_type": "execute_result",
          "data": {
            "text/plain": [
              "True"
            ]
          },
          "metadata": {},
          "execution_count": 34
        }
      ]
    },
    {
      "cell_type": "code",
      "metadata": {
        "id": "qQY4syKWVKbR",
        "colab": {
          "base_uri": "https://localhost:8080/"
        },
        "outputId": "3801aec1-2141-411f-d60c-a7b3735418b8"
      },
      "source": [
        "not ( edad_nico >= 18 )"
      ],
      "execution_count": null,
      "outputs": [
        {
          "output_type": "execute_result",
          "data": {
            "text/plain": [
              "False"
            ]
          },
          "metadata": {},
          "execution_count": 35
        }
      ]
    },
    {
      "cell_type": "code",
      "source": [
        "True and False"
      ],
      "metadata": {
        "colab": {
          "base_uri": "https://localhost:8080/"
        },
        "id": "tPqwUKNj4cUT",
        "outputId": "379f0a47-1f04-4582-d6fe-a3546afefdad"
      },
      "execution_count": null,
      "outputs": [
        {
          "output_type": "execute_result",
          "data": {
            "text/plain": [
              "False"
            ]
          },
          "metadata": {},
          "execution_count": 36
        }
      ]
    },
    {
      "cell_type": "code",
      "source": [
        "False or False"
      ],
      "metadata": {
        "colab": {
          "base_uri": "https://localhost:8080/"
        },
        "id": "k3cM29PO4fZ1",
        "outputId": "b5aef1a7-fd2b-4a58-b10c-e1a2db15da07"
      },
      "execution_count": null,
      "outputs": [
        {
          "output_type": "execute_result",
          "data": {
            "text/plain": [
              "False"
            ]
          },
          "metadata": {},
          "execution_count": 37
        }
      ]
    },
    {
      "cell_type": "code",
      "source": [
        "False or True"
      ],
      "metadata": {
        "colab": {
          "base_uri": "https://localhost:8080/"
        },
        "id": "e4XNN8D44hix",
        "outputId": "8f193f1c-5424-4ceb-9b4d-1a94664fad01"
      },
      "execution_count": null,
      "outputs": [
        {
          "output_type": "execute_result",
          "data": {
            "text/plain": [
              "True"
            ]
          },
          "metadata": {},
          "execution_count": 38
        }
      ]
    },
    {
      "cell_type": "code",
      "metadata": {
        "id": "Nba3VNJOYXbN"
      },
      "source": [
        "a = 1\n",
        "b = 3\n",
        "\n",
        "a * b >= 15       and            not       (a%b ** 2) != 0\n",
        "#  False            y            (NOT           TRUE)\n",
        "# False             y                   False"
      ],
      "execution_count": null,
      "outputs": []
    },
    {
      "cell_type": "code",
      "metadata": {
        "id": "NFYSqVeJYy8J"
      },
      "source": [
        "a ** b /      3**a /      a * b >= 15            and         not (a%b**2) != 0"
      ],
      "execution_count": null,
      "outputs": []
    },
    {
      "cell_type": "code",
      "metadata": {
        "id": "cotB0AcVbx_N"
      },
      "source": [
        "edad_francisco  = 88   #Asignación"
      ],
      "execution_count": null,
      "outputs": []
    },
    {
      "cell_type": "code",
      "metadata": {
        "id": "gbEWsG_tb5Uw"
      },
      "source": [
        "edad_francisco += 9"
      ],
      "execution_count": null,
      "outputs": []
    },
    {
      "cell_type": "code",
      "metadata": {
        "id": "Gc93OZ7eb_64"
      },
      "source": [
        "edad_francisco"
      ],
      "execution_count": null,
      "outputs": []
    },
    {
      "cell_type": "code",
      "metadata": {
        "id": "A--DPRh1cHyf"
      },
      "source": [
        "edad_francisco -=5"
      ],
      "execution_count": null,
      "outputs": []
    },
    {
      "cell_type": "code",
      "metadata": {
        "id": "enl_hQ5dcN2C"
      },
      "source": [
        "edad_francisco"
      ],
      "execution_count": null,
      "outputs": []
    },
    {
      "cell_type": "code",
      "metadata": {
        "id": "rizAFeZtcW9J"
      },
      "source": [
        "edad_francisco -= 57"
      ],
      "execution_count": null,
      "outputs": []
    },
    {
      "cell_type": "code",
      "metadata": {
        "id": "dx0VzTeFcd77"
      },
      "source": [
        "edad_francisco"
      ],
      "execution_count": null,
      "outputs": []
    },
    {
      "cell_type": "code",
      "metadata": {
        "id": "RlqjSl5Gc5g_"
      },
      "source": [
        "edad_luis"
      ],
      "execution_count": null,
      "outputs": []
    },
    {
      "cell_type": "code",
      "metadata": {
        "id": "lHHplvZRc-hR"
      },
      "source": [
        "edad_luis = edad_luis + 3         # edad_luis += 3"
      ],
      "execution_count": null,
      "outputs": []
    },
    {
      "cell_type": "code",
      "metadata": {
        "id": "1yoQHZTRdJtP"
      },
      "source": [
        "edad_luis"
      ],
      "execution_count": null,
      "outputs": []
    },
    {
      "cell_type": "code",
      "metadata": {
        "id": "ztmt7Q8id2qF"
      },
      "source": [
        "x = 5\n",
        "y = 21\n",
        "z = -3\n",
        "\n",
        "exp_log = (y-x)%4 >  3    or     z**(x-3) == 12   and   (x != y-3)"
      ],
      "execution_count": null,
      "outputs": []
    },
    {
      "cell_type": "code",
      "metadata": {
        "id": "8-9X_uukedMu"
      },
      "source": [
        "exp_log"
      ],
      "execution_count": null,
      "outputs": []
    },
    {
      "cell_type": "code",
      "metadata": {
        "id": "uOnFW1-rgXfL"
      },
      "source": [
        "True or False and True"
      ],
      "execution_count": null,
      "outputs": []
    },
    {
      "cell_type": "code",
      "metadata": {
        "id": "KFzg83cagq1g"
      },
      "source": [
        "\n",
        "True      or                         True         and      False\n",
        "# TRUE                 y    False    = FALSE"
      ],
      "execution_count": null,
      "outputs": []
    },
    {
      "cell_type": "markdown",
      "source": [
        "# Expresiones anidadas (o expresiones combinadas)"
      ],
      "metadata": {
        "id": "yW0tsVIpKWrU"
      }
    },
    {
      "cell_type": "code",
      "source": [
        "a = 15\n",
        "b = 12\n",
        "\n",
        "a ** b / 3**a / a * b >= 15 and not (a%b**2) != 0"
      ],
      "metadata": {
        "id": "0XxIZ6QAUfGj",
        "colab": {
          "base_uri": "https://localhost:8080/"
        },
        "outputId": "27a95ff5-261b-4792-bbb6-8a548b523976"
      },
      "execution_count": null,
      "outputs": [
        {
          "output_type": "execute_result",
          "data": {
            "text/plain": [
              "False"
            ]
          },
          "metadata": {},
          "execution_count": 39
        }
      ]
    },
    {
      "cell_type": "code",
      "source": [
        "# a ** b / 3**a / a * b >= 15 and not 15 != 0\n",
        "# 129746337890625 / 14348907 / a * b >= 15 and not 15 != 0\n",
        "# 9042245.370370371 / a * b >= 15 and not 15 != 0\n",
        "# 7233796.296296298 >= 15 and not 15 != 0\n",
        "# True and not True\n",
        "# True and False\n",
        "# False"
      ],
      "metadata": {
        "id": "LJ9XsE25XYqK"
      },
      "execution_count": null,
      "outputs": []
    },
    {
      "cell_type": "code",
      "source": [
        "b**2"
      ],
      "metadata": {
        "colab": {
          "base_uri": "https://localhost:8080/"
        },
        "id": "KNtY0BdoXYyT",
        "outputId": "2064573e-5430-4572-87e9-7b45f8c4895d"
      },
      "execution_count": null,
      "outputs": [
        {
          "output_type": "execute_result",
          "data": {
            "text/plain": [
              "144"
            ]
          },
          "metadata": {},
          "execution_count": 40
        }
      ]
    },
    {
      "cell_type": "code",
      "source": [
        "a % 144"
      ],
      "metadata": {
        "colab": {
          "base_uri": "https://localhost:8080/"
        },
        "id": "72BMOYrUXY6K",
        "outputId": "c05dfba2-d81f-448c-9665-d8fda85fc6ad"
      },
      "execution_count": null,
      "outputs": [
        {
          "output_type": "execute_result",
          "data": {
            "text/plain": [
              "15"
            ]
          },
          "metadata": {},
          "execution_count": 41
        }
      ]
    },
    {
      "cell_type": "code",
      "source": [
        "a ** b"
      ],
      "metadata": {
        "colab": {
          "base_uri": "https://localhost:8080/"
        },
        "id": "28aiGV-tXbKO",
        "outputId": "fa9508ed-3253-497c-ae2e-678f8cc58fea"
      },
      "execution_count": null,
      "outputs": [
        {
          "output_type": "execute_result",
          "data": {
            "text/plain": [
              "129746337890625"
            ]
          },
          "metadata": {},
          "execution_count": 42
        }
      ]
    },
    {
      "cell_type": "code",
      "source": [
        "3**a"
      ],
      "metadata": {
        "colab": {
          "base_uri": "https://localhost:8080/"
        },
        "id": "3SZash-4X7OU",
        "outputId": "dde47a0e-7d4e-48f5-93b5-e5dfe9a003b2"
      },
      "execution_count": null,
      "outputs": [
        {
          "output_type": "execute_result",
          "data": {
            "text/plain": [
              "14348907"
            ]
          },
          "metadata": {},
          "execution_count": 43
        }
      ]
    },
    {
      "cell_type": "code",
      "source": [
        "129746337890625 / 14348907"
      ],
      "metadata": {
        "colab": {
          "base_uri": "https://localhost:8080/"
        },
        "id": "XdPiQg2KY6nL",
        "outputId": "80f37cb2-f87f-43d9-bd94-ae92665c9876"
      },
      "execution_count": null,
      "outputs": [
        {
          "output_type": "execute_result",
          "data": {
            "text/plain": [
              "9042245.370370371"
            ]
          },
          "metadata": {},
          "execution_count": 44
        }
      ]
    },
    {
      "cell_type": "code",
      "source": [
        "9042245.370370371 / a * b"
      ],
      "metadata": {
        "colab": {
          "base_uri": "https://localhost:8080/"
        },
        "id": "l-eEyzAoZDz9",
        "outputId": "27f1fb51-08d4-435a-ac67-5247dc14296a"
      },
      "execution_count": null,
      "outputs": [
        {
          "output_type": "execute_result",
          "data": {
            "text/plain": [
              "7233796.296296298"
            ]
          },
          "metadata": {},
          "execution_count": 45
        }
      ]
    },
    {
      "cell_type": "code",
      "source": [
        "a ** b / 3**a / a * b >= 15 and not 15 != 0"
      ],
      "metadata": {
        "id": "38lHWsdpZlWB"
      },
      "execution_count": null,
      "outputs": []
    },
    {
      "cell_type": "markdown",
      "source": [
        "# Operadores de asignacion"
      ],
      "metadata": {
        "id": "LSYitUSoKJ6Z"
      }
    },
    {
      "cell_type": "code",
      "source": [
        "a = 0"
      ],
      "metadata": {
        "id": "FqBC3eVJbVvj"
      },
      "execution_count": 3,
      "outputs": []
    },
    {
      "cell_type": "code",
      "source": [
        "a = a + 1"
      ],
      "metadata": {
        "id": "CWZRCMSTbX7V"
      },
      "execution_count": 4,
      "outputs": []
    },
    {
      "cell_type": "code",
      "source": [
        "a"
      ],
      "metadata": {
        "id": "wAi1jKmPbg7M",
        "outputId": "9940ef1c-9ced-4481-87aa-e7b5aa333b8a",
        "colab": {
          "base_uri": "https://localhost:8080/"
        }
      },
      "execution_count": 5,
      "outputs": [
        {
          "output_type": "execute_result",
          "data": {
            "text/plain": [
              "1"
            ]
          },
          "metadata": {},
          "execution_count": 5
        }
      ]
    },
    {
      "cell_type": "code",
      "source": [
        "contador = 0"
      ],
      "metadata": {
        "id": "9Vv4mAerbySq"
      },
      "execution_count": 6,
      "outputs": []
    },
    {
      "cell_type": "code",
      "source": [
        "contador += 1"
      ],
      "metadata": {
        "id": "IEuyZCjKb09H"
      },
      "execution_count": 7,
      "outputs": []
    },
    {
      "cell_type": "code",
      "source": [
        "contador"
      ],
      "metadata": {
        "id": "icainXwzb2z-",
        "outputId": "ae35cc47-b372-4aa3-d94a-5b8898ed6a78",
        "colab": {
          "base_uri": "https://localhost:8080/"
        }
      },
      "execution_count": 8,
      "outputs": [
        {
          "output_type": "execute_result",
          "data": {
            "text/plain": [
              "1"
            ]
          },
          "metadata": {},
          "execution_count": 8
        }
      ]
    },
    {
      "cell_type": "code",
      "source": [
        "# en la naturaleza las bacterias suelen multiplicarse bajo ciertas condiciones\n",
        "poblacion_bacterias = 100"
      ],
      "metadata": {
        "id": "XYoP_JgkcGrS"
      },
      "execution_count": 9,
      "outputs": []
    },
    {
      "cell_type": "code",
      "source": [
        "poblacion_bacterias *= 2"
      ],
      "metadata": {
        "id": "CIy6WrQAcTN_"
      },
      "execution_count": 10,
      "outputs": []
    },
    {
      "cell_type": "code",
      "source": [
        "poblacion_bacterias"
      ],
      "metadata": {
        "id": "-QNZ2PfKcW4E",
        "outputId": "cd247311-a692-4d46-e452-16da94291baa",
        "colab": {
          "base_uri": "https://localhost:8080/"
        }
      },
      "execution_count": 11,
      "outputs": [
        {
          "output_type": "execute_result",
          "data": {
            "text/plain": [
              "200"
            ]
          },
          "metadata": {},
          "execution_count": 11
        }
      ]
    }
  ]
}