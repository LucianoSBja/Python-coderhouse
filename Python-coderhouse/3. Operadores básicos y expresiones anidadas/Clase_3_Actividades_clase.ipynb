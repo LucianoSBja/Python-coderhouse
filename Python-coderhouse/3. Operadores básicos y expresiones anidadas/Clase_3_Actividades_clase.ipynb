{
  "nbformat": 4,
  "nbformat_minor": 0,
  "metadata": {
    "colab": {
      "provenance": []
    },
    "kernelspec": {
      "name": "python3",
      "display_name": "Python 3"
    },
    "language_info": {
      "name": "python"
    }
  },
  "cells": [
    {
      "cell_type": "code",
      "execution_count": null,
      "metadata": {
        "id": "zH35-Wh9LTfi"
      },
      "outputs": [],
      "source": [
        "\"\"\"\n",
        "Actividad 1\n",
        "En una lista encontraremos diferentes operaciones relacionales, calcular\n",
        "mentalmente el resultado de cada expresión y almacenarlo en una nueva lista que\n",
        "contendrá únicamente valores lógicos True y False.\n",
        "\n",
        "expresiones = [\n",
        "    False == True,\n",
        "    10 >= 2*4,\n",
        "    33/3 == 11,\n",
        "    True > False,\n",
        "    True*5 == 2.5*2\n",
        "]\n",
        "\"\"\""
      ]
    },
    {
      "cell_type": "code",
      "source": [
        "expresiones = [\n",
        "    False == True,  # False\n",
        "    10 >= 2*4,  # True\n",
        "    33/3 == 11,  # True\n",
        "    True > False,  # True\n",
        "    True*5 == 2.5*2  # True\n",
        "]"
      ],
      "metadata": {
        "id": "9h_E_3c_y664"
      },
      "execution_count": null,
      "outputs": []
    },
    {
      "cell_type": "code",
      "source": [
        "# es lo mismo\n",
        "expresiones = [False == True, 10 >= 2*4, 33/3 == 11, True > False, True*5 == 2.5*2]"
      ],
      "metadata": {
        "id": "-mpB4WmS0pVL"
      },
      "execution_count": null,
      "outputs": []
    },
    {
      "cell_type": "code",
      "source": [
        "True*5"
      ],
      "metadata": {
        "colab": {
          "base_uri": "https://localhost:8080/"
        },
        "id": "kmgoTdnNy7By",
        "outputId": "4f5b10eb-f72f-48f9-d790-53a32629e44e"
      },
      "execution_count": null,
      "outputs": [
        {
          "output_type": "execute_result",
          "data": {
            "text/plain": [
              "5"
            ]
          },
          "metadata": {},
          "execution_count": 1
        }
      ]
    },
    {
      "cell_type": "code",
      "source": [
        "expresiones"
      ],
      "metadata": {
        "colab": {
          "base_uri": "https://localhost:8080/"
        },
        "id": "WEDLezYPy7JD",
        "outputId": "c9f59a45-3a2d-457b-c0b3-23db78eab613"
      },
      "execution_count": null,
      "outputs": [
        {
          "output_type": "execute_result",
          "data": {
            "text/plain": [
              "[False, True, True, True, True]"
            ]
          },
          "metadata": {},
          "execution_count": 3
        }
      ]
    },
    {
      "cell_type": "code",
      "source": [
        "numeros = [10, 5, 3]"
      ],
      "metadata": {
        "id": "UGC7RCVj0N43"
      },
      "execution_count": null,
      "outputs": []
    },
    {
      "cell_type": "code",
      "source": [
        "numeros = [\n",
        "    10,\n",
        "    5,\n",
        "    3\n",
        "]"
      ],
      "metadata": {
        "id": "TlVAGWwIy7P8"
      },
      "execution_count": null,
      "outputs": []
    },
    {
      "cell_type": "code",
      "source": [],
      "metadata": {
        "id": "-ry0CEbV0PI6"
      },
      "execution_count": null,
      "outputs": []
    },
    {
      "cell_type": "code",
      "source": [],
      "metadata": {
        "id": "omy90MJv0PVf"
      },
      "execution_count": null,
      "outputs": []
    },
    {
      "cell_type": "code",
      "source": [
        "\"\"\"\n",
        "Actividad 2\n",
        "En una lista encontraremos diferentes operaciones lógicas. Calcular mentalmente el resultado\n",
        "de cada expresión y almacenarlo en una nueva lista la cual contendrá únicamente valores lógicos True y False.\n",
        "\n",
        "expresiones = [\n",
        "    not False,\n",
        "    not 3 == 5,\n",
        "    33/3 == 11 and 5 > 2,\n",
        "    True or False,\n",
        "    True*5 == 2.5*2 or 123 >= 23,\n",
        "    12 > 7 and True < False\n",
        "]\n",
        "\"\"\""
      ],
      "metadata": {
        "id": "k74asyleOtcf"
      },
      "execution_count": null,
      "outputs": []
    },
    {
      "cell_type": "code",
      "source": [
        "expresiones = [\n",
        "    not False,  # Verdadero\n",
        "    not 3 == 5,  # Verdadero\n",
        "    33/3 == 11 and 5 > 2,  # T and T => T\n",
        "    True or False,  # T\n",
        "    True*5 == 2.5*2 or 123 >= 23,  # T or T => T\n",
        "    12 > 7 and True < False  # T and F => F\n",
        "]"
      ],
      "metadata": {
        "id": "kFLC1yaI49Aj"
      },
      "execution_count": null,
      "outputs": []
    },
    {
      "cell_type": "code",
      "source": [
        "expresiones"
      ],
      "metadata": {
        "colab": {
          "base_uri": "https://localhost:8080/"
        },
        "id": "MJaJtu1z49hf",
        "outputId": "7c230444-bc42-4d93-d76e-a2e6214147fb"
      },
      "execution_count": null,
      "outputs": [
        {
          "output_type": "execute_result",
          "data": {
            "text/plain": [
              "[True, True, True, True, True, False]"
            ]
          },
          "metadata": {},
          "execution_count": 5
        }
      ]
    },
    {
      "cell_type": "code",
      "source": [],
      "metadata": {
        "id": "EEfCgW_T49ox"
      },
      "execution_count": null,
      "outputs": []
    },
    {
      "cell_type": "code",
      "source": [],
      "metadata": {
        "id": "xXlgIeAt49vU"
      },
      "execution_count": null,
      "outputs": []
    },
    {
      "cell_type": "code",
      "source": [],
      "metadata": {
        "id": "gj0fzzYh43E4"
      },
      "execution_count": null,
      "outputs": []
    },
    {
      "cell_type": "code",
      "source": [],
      "metadata": {
        "id": "VEiWS05143L1"
      },
      "execution_count": null,
      "outputs": []
    },
    {
      "cell_type": "code",
      "source": [],
      "metadata": {
        "id": "1iIfRVaR43pD"
      },
      "execution_count": null,
      "outputs": []
    },
    {
      "cell_type": "code",
      "source": [
        "expresiones = [\n",
        "    not False,  # True\n",
        "    not 3 == 5,  # True\n",
        "    33/3 == 11 and 5 > 2,  # True and True => True\n",
        "    True or False,  # True\n",
        "    True*5 == 2.5*2 or 123 >= 23,  # True or True\n",
        "    12 > 7 and True < False  # True and False => False\n",
        "]"
      ],
      "metadata": {
        "id": "ouYHRJjBO-uc"
      },
      "execution_count": null,
      "outputs": []
    },
    {
      "cell_type": "code",
      "source": [],
      "metadata": {
        "id": "G2nSFw9bBJ33"
      },
      "execution_count": null,
      "outputs": []
    },
    {
      "cell_type": "code",
      "source": [
        "expresiones"
      ],
      "metadata": {
        "id": "VdXIYGA2RGy7"
      },
      "execution_count": null,
      "outputs": []
    },
    {
      "cell_type": "code",
      "source": [
        "\"\"\"\n",
        "Actividad 3\n",
        "A partir de dos variables llamadas NOMBRE y EDAD, debes crear una variable que almacene\n",
        "si se cumplen todas las siguientes condiciones, encadenando operadores lógicos en una sola línea:\n",
        "\n",
        "1. NOMBRE sea diferente de cuatro asteriscos “****”\n",
        "2. EDAD sea mayor que 5 y a su vez menor que 20\n",
        "3. Que la longitud de NOMBRE sea mayor o igual a 4  pero a la vez menor que 8\n",
        "4. EDAD multiplicada por 3 sea mayor que 35\n",
        "\n",
        "\n",
        "Desde un input conseguir las variables:\n",
        "nombre = INPUT!!!\n",
        "edad = INPUT!!!!\n",
        "\"\"\""
      ],
      "metadata": {
        "id": "-eRCxC0kXaI7"
      },
      "execution_count": null,
      "outputs": []
    },
    {
      "cell_type": "code",
      "source": [],
      "metadata": {
        "id": "cBn6WQfNZzjJ"
      },
      "execution_count": null,
      "outputs": []
    },
    {
      "cell_type": "code",
      "source": [
        "nombre = input(\"Nombre:  \")\n",
        "edad = int(input(\"Edad: \"))"
      ],
      "metadata": {
        "id": "Ydl0gIO7YlOX",
        "colab": {
          "base_uri": "https://localhost:8080/"
        },
        "outputId": "38f21f76-3eae-42d4-9e53-f593b81cc9f0"
      },
      "execution_count": null,
      "outputs": [
        {
          "name": "stdout",
          "output_type": "stream",
          "text": [
            "Nombre:  Rodrigo\n",
            "Edad: 23\n"
          ]
        }
      ]
    },
    {
      "cell_type": "code",
      "source": [
        "# 1. NOMBRE sea diferente de cuatro asteriscos “****”\n",
        "nombre != \"****\"\n",
        "\n",
        "# 2. EDAD sea mayor que 5 y a su vez menor que 20\n",
        "# 5 < edad < 20  # otra opcion es\n",
        "edad > 5 and edad < 20\n",
        "\n",
        "# 3. Que la longitud de NOMBRE sea mayor o igual a 4 pero a la vez menor que 8\n",
        "len(nombre) >= 4 and len(nombre) < 8\n",
        "\n",
        "# 4. EDAD multiplicada por 3 sea mayor que 35\n",
        "edad*3 > 35"
      ],
      "metadata": {
        "id": "0TV59tCTZ9yp"
      },
      "execution_count": null,
      "outputs": []
    },
    {
      "cell_type": "code",
      "source": [
        "# debes crear una variable que almacene si se cumplen todas las siguientes\n",
        "# condiciones, encadenando operadores lógicos en una sola línea:"
      ],
      "metadata": {
        "id": "dD_fSByZ-Pmj"
      },
      "execution_count": null,
      "outputs": []
    },
    {
      "cell_type": "code",
      "source": [
        "resultado = (nombre != \"****\") and (edad > 5 and edad < 20) and (len(nombre) >= 4 and len(nombre) < 8) and (edad*3 > 35)"
      ],
      "metadata": {
        "id": "n838h2EI-PtN"
      },
      "execution_count": null,
      "outputs": []
    },
    {
      "cell_type": "code",
      "source": [
        "resultado"
      ],
      "metadata": {
        "colab": {
          "base_uri": "https://localhost:8080/"
        },
        "id": "u0Wyhkb_-Pzw",
        "outputId": "6a34cf75-aaad-4298-974d-c4980f3322ab"
      },
      "execution_count": null,
      "outputs": [
        {
          "output_type": "execute_result",
          "data": {
            "text/plain": [
              "False"
            ]
          },
          "metadata": {},
          "execution_count": 14
        }
      ]
    },
    {
      "cell_type": "code",
      "source": [
        "# puedes escribirlo más bonito así :)\n",
        "resultado = (\n",
        "    (nombre != \"****\")\n",
        "    and (edad > 5 and edad < 20)\n",
        "    and (len(nombre) >= 4 and len(nombre) < 8)\n",
        "    and (edad*3 > 35)\n",
        ")"
      ],
      "metadata": {
        "id": "T-j5f1xO_18H"
      },
      "execution_count": null,
      "outputs": []
    },
    {
      "cell_type": "code",
      "source": [],
      "metadata": {
        "id": "a0eGCofc-P6Y"
      },
      "execution_count": null,
      "outputs": []
    },
    {
      "cell_type": "code",
      "source": [],
      "metadata": {
        "id": "_e274Te8-QAr"
      },
      "execution_count": null,
      "outputs": []
    },
    {
      "cell_type": "code",
      "source": [
        "(nombre != \"****\") and (edad > 5 and edad < 20) and (len(nombre) >= 4 and len(nombre) < 8) and (edad*3 > 35)"
      ],
      "metadata": {
        "id": "JpDigLqLZ95j"
      },
      "execution_count": null,
      "outputs": []
    },
    {
      "cell_type": "code",
      "source": [
        "# NOMBRE sea diferente de cuatro asteriscos “****”\n",
        "nombre != \"****\"\n",
        "\n",
        "# 2. EDAD sea mayor que 5 y a su vez menor que 20\n",
        "edad > 5 and edad < 20\n",
        "# 5 < edad < 20\n",
        "\n",
        "# 3. Que la longitud de NOMBRE sea mayor o igual a 4  pero a la vez menor que 8\n",
        "len(nombre) >= 4 and len(nombre) < 8\n",
        "\n",
        "# 4. EDAD multiplicada por 3 sea mayor que 35\n",
        "edad*3 > 35\n",
        "\n",
        "\n",
        "(nombre != \"****\") and (edad > 5 and edad < 20) and (len(nombre) >= 4 and len(nombre) < 8) and (edad*3 > 35)\n",
        "\n",
        "\n",
        "\n",
        "# EDAD sea mayor que 5 y a su vez menor que 20\n",
        "edad > 5 and edad < 20\n",
        "\n",
        "# Que la longitud de NOMBRE sea mayor o igual a 4, pero a la vez menor que 8\n",
        "len(nombre) >= 4 and len(nombre) < 8\n",
        "\n",
        "# EDAD multiplicada por 3 sea mayor que 35\n",
        "edad * 3 > 35"
      ],
      "metadata": {
        "id": "8AK6k0jdZKBZ"
      },
      "execution_count": null,
      "outputs": []
    },
    {
      "cell_type": "code",
      "source": [
        "resultado = (nombre != \"****\") and (edad > 5 and edad < 20) and (len(nombre) >= 4 and len(nombre) < 8) and (edad * 3 > 35)"
      ],
      "metadata": {
        "id": "QsL-kAN8aAVd"
      },
      "execution_count": null,
      "outputs": []
    },
    {
      "cell_type": "code",
      "source": [
        "resultado"
      ],
      "metadata": {
        "id": "7vAGE6QWaPic"
      },
      "execution_count": null,
      "outputs": []
    },
    {
      "cell_type": "code",
      "source": [
        "# Ejercicios extras\n",
        "\"\"\"\n",
        "by Gonzalo\n",
        "Escriba un programa que solicite al usuario su edad y si tiene un carnet de conducir.\n",
        "Si la edad del usuario es mayor o igual a 18 y tiene un carnet de conducir, el programa debe imprimir \"Puede conducir\".\n",
        "De lo contrario, debe imprimir \"No puede conducir\".\n",
        "\"\"\""
      ],
      "metadata": {
        "id": "OphI24p6dMzr"
      },
      "execution_count": null,
      "outputs": []
    }
  ]
}